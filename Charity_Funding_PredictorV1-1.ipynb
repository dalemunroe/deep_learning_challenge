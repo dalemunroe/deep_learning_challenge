{
 "cells": [
  {
   "cell_type": "markdown",
   "metadata": {},
   "source": [
    "## Preprocessing"
   ]
  },
  {
   "cell_type": "code",
   "execution_count": 2,
   "metadata": {},
   "outputs": [
    {
     "name": "stderr",
     "output_type": "stream",
     "text": [
      "c:\\Users\\dalem\\anaconda3\\envs\\PythonData\\lib\\site-packages\\tensorflow\\python\\framework\\dtypes.py:516: FutureWarning: Passing (type, 1) or '1type' as a synonym of type is deprecated; in a future version of numpy, it will be understood as (type, (1,)) / '(1,)type'.\n",
      "  _np_qint8 = np.dtype([(\"qint8\", np.int8, 1)])\n",
      "c:\\Users\\dalem\\anaconda3\\envs\\PythonData\\lib\\site-packages\\tensorflow\\python\\framework\\dtypes.py:517: FutureWarning: Passing (type, 1) or '1type' as a synonym of type is deprecated; in a future version of numpy, it will be understood as (type, (1,)) / '(1,)type'.\n",
      "  _np_quint8 = np.dtype([(\"quint8\", np.uint8, 1)])\n",
      "c:\\Users\\dalem\\anaconda3\\envs\\PythonData\\lib\\site-packages\\tensorflow\\python\\framework\\dtypes.py:518: FutureWarning: Passing (type, 1) or '1type' as a synonym of type is deprecated; in a future version of numpy, it will be understood as (type, (1,)) / '(1,)type'.\n",
      "  _np_qint16 = np.dtype([(\"qint16\", np.int16, 1)])\n",
      "c:\\Users\\dalem\\anaconda3\\envs\\PythonData\\lib\\site-packages\\tensorflow\\python\\framework\\dtypes.py:519: FutureWarning: Passing (type, 1) or '1type' as a synonym of type is deprecated; in a future version of numpy, it will be understood as (type, (1,)) / '(1,)type'.\n",
      "  _np_quint16 = np.dtype([(\"quint16\", np.uint16, 1)])\n",
      "c:\\Users\\dalem\\anaconda3\\envs\\PythonData\\lib\\site-packages\\tensorflow\\python\\framework\\dtypes.py:520: FutureWarning: Passing (type, 1) or '1type' as a synonym of type is deprecated; in a future version of numpy, it will be understood as (type, (1,)) / '(1,)type'.\n",
      "  _np_qint32 = np.dtype([(\"qint32\", np.int32, 1)])\n",
      "c:\\Users\\dalem\\anaconda3\\envs\\PythonData\\lib\\site-packages\\tensorflow\\python\\framework\\dtypes.py:525: FutureWarning: Passing (type, 1) or '1type' as a synonym of type is deprecated; in a future version of numpy, it will be understood as (type, (1,)) / '(1,)type'.\n",
      "  np_resource = np.dtype([(\"resource\", np.ubyte, 1)])\n",
      "c:\\Users\\dalem\\anaconda3\\envs\\PythonData\\lib\\site-packages\\tensorboard\\compat\\tensorflow_stub\\dtypes.py:541: FutureWarning: Passing (type, 1) or '1type' as a synonym of type is deprecated; in a future version of numpy, it will be understood as (type, (1,)) / '(1,)type'.\n",
      "  _np_qint8 = np.dtype([(\"qint8\", np.int8, 1)])\n",
      "c:\\Users\\dalem\\anaconda3\\envs\\PythonData\\lib\\site-packages\\tensorboard\\compat\\tensorflow_stub\\dtypes.py:542: FutureWarning: Passing (type, 1) or '1type' as a synonym of type is deprecated; in a future version of numpy, it will be understood as (type, (1,)) / '(1,)type'.\n",
      "  _np_quint8 = np.dtype([(\"quint8\", np.uint8, 1)])\n",
      "c:\\Users\\dalem\\anaconda3\\envs\\PythonData\\lib\\site-packages\\tensorboard\\compat\\tensorflow_stub\\dtypes.py:543: FutureWarning: Passing (type, 1) or '1type' as a synonym of type is deprecated; in a future version of numpy, it will be understood as (type, (1,)) / '(1,)type'.\n",
      "  _np_qint16 = np.dtype([(\"qint16\", np.int16, 1)])\n",
      "c:\\Users\\dalem\\anaconda3\\envs\\PythonData\\lib\\site-packages\\tensorboard\\compat\\tensorflow_stub\\dtypes.py:544: FutureWarning: Passing (type, 1) or '1type' as a synonym of type is deprecated; in a future version of numpy, it will be understood as (type, (1,)) / '(1,)type'.\n",
      "  _np_quint16 = np.dtype([(\"quint16\", np.uint16, 1)])\n",
      "c:\\Users\\dalem\\anaconda3\\envs\\PythonData\\lib\\site-packages\\tensorboard\\compat\\tensorflow_stub\\dtypes.py:545: FutureWarning: Passing (type, 1) or '1type' as a synonym of type is deprecated; in a future version of numpy, it will be understood as (type, (1,)) / '(1,)type'.\n",
      "  _np_qint32 = np.dtype([(\"qint32\", np.int32, 1)])\n",
      "c:\\Users\\dalem\\anaconda3\\envs\\PythonData\\lib\\site-packages\\tensorboard\\compat\\tensorflow_stub\\dtypes.py:550: FutureWarning: Passing (type, 1) or '1type' as a synonym of type is deprecated; in a future version of numpy, it will be understood as (type, (1,)) / '(1,)type'.\n",
      "  np_resource = np.dtype([(\"resource\", np.ubyte, 1)])\n"
     ]
    },
    {
     "data": {
      "text/html": [
       "<div>\n",
       "<style scoped>\n",
       "    .dataframe tbody tr th:only-of-type {\n",
       "        vertical-align: middle;\n",
       "    }\n",
       "\n",
       "    .dataframe tbody tr th {\n",
       "        vertical-align: top;\n",
       "    }\n",
       "\n",
       "    .dataframe thead th {\n",
       "        text-align: right;\n",
       "    }\n",
       "</style>\n",
       "<table border=\"1\" class=\"dataframe\">\n",
       "  <thead>\n",
       "    <tr style=\"text-align: right;\">\n",
       "      <th></th>\n",
       "      <th>EIN</th>\n",
       "      <th>NAME</th>\n",
       "      <th>APPLICATION_TYPE</th>\n",
       "      <th>AFFILIATION</th>\n",
       "      <th>CLASSIFICATION</th>\n",
       "      <th>USE_CASE</th>\n",
       "      <th>ORGANIZATION</th>\n",
       "      <th>STATUS</th>\n",
       "      <th>INCOME_AMT</th>\n",
       "      <th>SPECIAL_CONSIDERATIONS</th>\n",
       "      <th>ASK_AMT</th>\n",
       "      <th>IS_SUCCESSFUL</th>\n",
       "    </tr>\n",
       "  </thead>\n",
       "  <tbody>\n",
       "    <tr>\n",
       "      <th>0</th>\n",
       "      <td>10520599</td>\n",
       "      <td>BLUE KNIGHTS MOTORCYCLE CLUB</td>\n",
       "      <td>T10</td>\n",
       "      <td>Independent</td>\n",
       "      <td>C1000</td>\n",
       "      <td>ProductDev</td>\n",
       "      <td>Association</td>\n",
       "      <td>1</td>\n",
       "      <td>0</td>\n",
       "      <td>N</td>\n",
       "      <td>5000</td>\n",
       "      <td>1</td>\n",
       "    </tr>\n",
       "    <tr>\n",
       "      <th>1</th>\n",
       "      <td>10531628</td>\n",
       "      <td>AMERICAN CHESAPEAKE CLUB CHARITABLE TR</td>\n",
       "      <td>T3</td>\n",
       "      <td>Independent</td>\n",
       "      <td>C2000</td>\n",
       "      <td>Preservation</td>\n",
       "      <td>Co-operative</td>\n",
       "      <td>1</td>\n",
       "      <td>1-9999</td>\n",
       "      <td>N</td>\n",
       "      <td>108590</td>\n",
       "      <td>1</td>\n",
       "    </tr>\n",
       "    <tr>\n",
       "      <th>2</th>\n",
       "      <td>10547893</td>\n",
       "      <td>ST CLOUD PROFESSIONAL FIREFIGHTERS</td>\n",
       "      <td>T5</td>\n",
       "      <td>CompanySponsored</td>\n",
       "      <td>C3000</td>\n",
       "      <td>ProductDev</td>\n",
       "      <td>Association</td>\n",
       "      <td>1</td>\n",
       "      <td>0</td>\n",
       "      <td>N</td>\n",
       "      <td>5000</td>\n",
       "      <td>0</td>\n",
       "    </tr>\n",
       "    <tr>\n",
       "      <th>3</th>\n",
       "      <td>10553066</td>\n",
       "      <td>SOUTHSIDE ATHLETIC ASSOCIATION</td>\n",
       "      <td>T3</td>\n",
       "      <td>CompanySponsored</td>\n",
       "      <td>C2000</td>\n",
       "      <td>Preservation</td>\n",
       "      <td>Trust</td>\n",
       "      <td>1</td>\n",
       "      <td>10000-24999</td>\n",
       "      <td>N</td>\n",
       "      <td>6692</td>\n",
       "      <td>1</td>\n",
       "    </tr>\n",
       "    <tr>\n",
       "      <th>4</th>\n",
       "      <td>10556103</td>\n",
       "      <td>GENETIC RESEARCH INSTITUTE OF THE DESERT</td>\n",
       "      <td>T3</td>\n",
       "      <td>Independent</td>\n",
       "      <td>C1000</td>\n",
       "      <td>Heathcare</td>\n",
       "      <td>Trust</td>\n",
       "      <td>1</td>\n",
       "      <td>100000-499999</td>\n",
       "      <td>N</td>\n",
       "      <td>142590</td>\n",
       "      <td>1</td>\n",
       "    </tr>\n",
       "  </tbody>\n",
       "</table>\n",
       "</div>"
      ],
      "text/plain": [
       "        EIN                                      NAME APPLICATION_TYPE  \\\n",
       "0  10520599              BLUE KNIGHTS MOTORCYCLE CLUB              T10   \n",
       "1  10531628    AMERICAN CHESAPEAKE CLUB CHARITABLE TR               T3   \n",
       "2  10547893        ST CLOUD PROFESSIONAL FIREFIGHTERS               T5   \n",
       "3  10553066            SOUTHSIDE ATHLETIC ASSOCIATION               T3   \n",
       "4  10556103  GENETIC RESEARCH INSTITUTE OF THE DESERT               T3   \n",
       "\n",
       "        AFFILIATION CLASSIFICATION      USE_CASE  ORGANIZATION  STATUS  \\\n",
       "0       Independent          C1000    ProductDev   Association       1   \n",
       "1       Independent          C2000  Preservation  Co-operative       1   \n",
       "2  CompanySponsored          C3000    ProductDev   Association       1   \n",
       "3  CompanySponsored          C2000  Preservation         Trust       1   \n",
       "4       Independent          C1000     Heathcare         Trust       1   \n",
       "\n",
       "      INCOME_AMT SPECIAL_CONSIDERATIONS  ASK_AMT  IS_SUCCESSFUL  \n",
       "0              0                      N     5000              1  \n",
       "1         1-9999                      N   108590              1  \n",
       "2              0                      N     5000              0  \n",
       "3    10000-24999                      N     6692              1  \n",
       "4  100000-499999                      N   142590              1  "
      ]
     },
     "execution_count": 2,
     "metadata": {},
     "output_type": "execute_result"
    }
   ],
   "source": [
    "# Import our dependencies\n",
    "from sklearn.model_selection import train_test_split\n",
    "from sklearn.preprocessing import StandardScaler\n",
    "import pandas as pd\n",
    "import tensorflow as tf\n",
    "import matplotlib.pyplot as plt\n",
    "\n",
    "#  Import and read the charity_data.csv.\n",
    "import pandas as pd \n",
    "application_df = pd.read_csv(\"Resources/charity_data.csv\")\n",
    "application_df.head()"
   ]
  },
  {
   "cell_type": "code",
   "execution_count": 3,
   "metadata": {},
   "outputs": [
    {
     "data": {
      "text/plain": [
       "(34299, 12)"
      ]
     },
     "execution_count": 3,
     "metadata": {},
     "output_type": "execute_result"
    }
   ],
   "source": [
    "application_df.shape"
   ]
  },
  {
   "cell_type": "code",
   "execution_count": 4,
   "metadata": {},
   "outputs": [
    {
     "data": {
      "text/plain": [
       "EIN                       34299\n",
       "NAME                      19568\n",
       "APPLICATION_TYPE             17\n",
       "AFFILIATION                   6\n",
       "CLASSIFICATION               71\n",
       "USE_CASE                      5\n",
       "ORGANIZATION                  4\n",
       "STATUS                        2\n",
       "INCOME_AMT                    9\n",
       "SPECIAL_CONSIDERATIONS        2\n",
       "ASK_AMT                    8747\n",
       "IS_SUCCESSFUL                 2\n",
       "dtype: int64"
      ]
     },
     "execution_count": 4,
     "metadata": {},
     "output_type": "execute_result"
    }
   ],
   "source": [
    "application_df.nunique()"
   ]
  },
  {
   "cell_type": "code",
   "execution_count": 5,
   "metadata": {},
   "outputs": [
    {
     "data": {
      "text/plain": [
       "(34299, 10)"
      ]
     },
     "execution_count": 5,
     "metadata": {},
     "output_type": "execute_result"
    }
   ],
   "source": [
    "# Drop the non-beneficial ID columns, 'EIN' and 'NAME'.\n",
    "application_df = application_df.drop(columns=['EIN', 'NAME'])\n",
    "application_df.shape"
   ]
  },
  {
   "cell_type": "code",
   "execution_count": 6,
   "metadata": {},
   "outputs": [
    {
     "data": {
      "text/plain": [
       "APPLICATION_TYPE            17\n",
       "AFFILIATION                  6\n",
       "CLASSIFICATION              71\n",
       "USE_CASE                     5\n",
       "ORGANIZATION                 4\n",
       "STATUS                       2\n",
       "INCOME_AMT                   9\n",
       "SPECIAL_CONSIDERATIONS       2\n",
       "ASK_AMT                   8747\n",
       "IS_SUCCESSFUL                2\n",
       "dtype: int64"
      ]
     },
     "execution_count": 6,
     "metadata": {},
     "output_type": "execute_result"
    }
   ],
   "source": [
    "# Determine the number of unique values in each column.\n",
    "application_df.nunique()"
   ]
  },
  {
   "cell_type": "code",
   "execution_count": 7,
   "metadata": {},
   "outputs": [
    {
     "data": {
      "text/plain": [
       "T3     27037\n",
       "T4      1542\n",
       "T6      1216\n",
       "T5      1173\n",
       "T19     1065\n",
       "T8       737\n",
       "T7       725\n",
       "T10      528\n",
       "T9       156\n",
       "T13       66\n",
       "T12       27\n",
       "T2        16\n",
       "T14        3\n",
       "T25        3\n",
       "T29        2\n",
       "T15        2\n",
       "T17        1\n",
       "Name: APPLICATION_TYPE, dtype: int64"
      ]
     },
     "execution_count": 7,
     "metadata": {},
     "output_type": "execute_result"
    }
   ],
   "source": [
    "# Look at APPLICATION_TYPE value counts for binning\n",
    "bin1 = application_df['APPLICATION_TYPE'].value_counts()\n",
    "bin1"
   ]
  },
  {
   "cell_type": "code",
   "execution_count": 8,
   "metadata": {},
   "outputs": [
    {
     "data": {
      "text/plain": [
       "T3       27037\n",
       "T4        1542\n",
       "T6        1216\n",
       "T5        1173\n",
       "T19       1065\n",
       "T8         737\n",
       "T7         725\n",
       "T10        528\n",
       "T9         156\n",
       "Other      120\n",
       "Name: APPLICATION_TYPE, dtype: int64"
      ]
     },
     "execution_count": 8,
     "metadata": {},
     "output_type": "execute_result"
    }
   ],
   "source": [
    "# Choose a cutoff value and create a list of application types to be replaced\n",
    "# use the variable name `application_types_to_replace`\n",
    "application_types_to_replace = list(bin1[bin1<100].index)\n",
    "\n",
    "\n",
    "# Replace in dataframe\n",
    "for app in application_types_to_replace:\n",
    "    application_df['APPLICATION_TYPE'] = application_df['APPLICATION_TYPE'].replace(app,\"Other\")\n",
    "\n",
    "# Check to make sure binning was successful\n",
    "application_df['APPLICATION_TYPE'].value_counts()"
   ]
  },
  {
   "cell_type": "code",
   "execution_count": 9,
   "metadata": {},
   "outputs": [
    {
     "data": {
      "text/plain": [
       "C1000    17326\n",
       "C2000     6074\n",
       "C1200     4837\n",
       "C3000     1918\n",
       "C2100     1883\n",
       "         ...  \n",
       "C1820        1\n",
       "C1370        1\n",
       "C1732        1\n",
       "C3700        1\n",
       "C4120        1\n",
       "Name: CLASSIFICATION, Length: 71, dtype: int64"
      ]
     },
     "execution_count": 9,
     "metadata": {},
     "output_type": "execute_result"
    }
   ],
   "source": [
    "# Look at CLASSIFICATION value counts for binning\n",
    "bin2 = application_df['CLASSIFICATION'].value_counts()\n",
    "bin2"
   ]
  },
  {
   "cell_type": "code",
   "execution_count": 10,
   "metadata": {},
   "outputs": [
    {
     "name": "stdout",
     "output_type": "stream",
     "text": [
      "(45,)\n",
      "=======================================================\n",
      "C1000    17326\n",
      "C2000     6074\n",
      "C1200     4837\n",
      "C3000     1918\n",
      "C2100     1883\n",
      "C7000      777\n",
      "C1700      287\n",
      "C4000      194\n",
      "C5000      116\n",
      "C1270      114\n",
      "C2700      104\n",
      "C2800       95\n",
      "C7100       75\n",
      "C1300       58\n",
      "C1280       50\n",
      "C1230       36\n",
      "C1400       34\n",
      "C7200       32\n",
      "C2300       32\n",
      "C1240       30\n",
      "C8000       20\n",
      "C7120       18\n",
      "C1500       16\n",
      "C1800       15\n",
      "C6000       15\n",
      "C1250       14\n",
      "C8200       11\n",
      "C1238       10\n",
      "C1278       10\n",
      "C1237        9\n",
      "C1235        9\n",
      "C7210        7\n",
      "C4100        6\n",
      "C1720        6\n",
      "C2400        6\n",
      "C1600        5\n",
      "C1257        5\n",
      "C0           3\n",
      "C1260        3\n",
      "C2710        3\n",
      "C3200        2\n",
      "C1256        2\n",
      "C1234        2\n",
      "C1267        2\n",
      "C1246        2\n",
      "Name: CLASSIFICATION, dtype: int64\n"
     ]
    }
   ],
   "source": [
    "# You may find it helpful to look at CLASSIFICATION value counts >1\n",
    "bin2_1 = bin2[bin2>1]\n",
    "print(bin2_1.shape)\n",
    "print('=======================================================')\n",
    "print(bin2_1)"
   ]
  },
  {
   "cell_type": "code",
   "execution_count": 11,
   "metadata": {},
   "outputs": [
    {
     "data": {
      "text/plain": [
       "C1000    17326\n",
       "C2000     6074\n",
       "C1200     4837\n",
       "C3000     1918\n",
       "C2100     1883\n",
       "C7000      777\n",
       "C1700      287\n",
       "C4000      194\n",
       "C5000      116\n",
       "C1270      114\n",
       "C2700      104\n",
       "Other       98\n",
       "C2800       95\n",
       "C7100       75\n",
       "C1300       58\n",
       "C1280       50\n",
       "C1230       36\n",
       "C1400       34\n",
       "C7200       32\n",
       "C2300       32\n",
       "C1240       30\n",
       "C8000       20\n",
       "C7120       18\n",
       "C1500       16\n",
       "C1800       15\n",
       "C6000       15\n",
       "C1250       14\n",
       "C8200       11\n",
       "C1278       10\n",
       "C1238       10\n",
       "Name: CLASSIFICATION, dtype: int64"
      ]
     },
     "execution_count": 11,
     "metadata": {},
     "output_type": "execute_result"
    }
   ],
   "source": [
    "# Choose a cutoff value and create a list of classifications to be replaced\n",
    "# use the variable name `classifications_to_replace`\n",
    "classifications_to_replace = list(bin2[bin2<10].index)\n",
    "\n",
    "# Replace in dataframe\n",
    "for cls in classifications_to_replace:\n",
    "    application_df['CLASSIFICATION'] = application_df['CLASSIFICATION'].replace(cls,\"Other\")\n",
    "    \n",
    "# Check to make sure binning was successful\n",
    "application_df['CLASSIFICATION'].value_counts()"
   ]
  },
  {
   "cell_type": "code",
   "execution_count": 12,
   "metadata": {},
   "outputs": [
    {
     "data": {
      "text/html": [
       "<div>\n",
       "<style scoped>\n",
       "    .dataframe tbody tr th:only-of-type {\n",
       "        vertical-align: middle;\n",
       "    }\n",
       "\n",
       "    .dataframe tbody tr th {\n",
       "        vertical-align: top;\n",
       "    }\n",
       "\n",
       "    .dataframe thead th {\n",
       "        text-align: right;\n",
       "    }\n",
       "</style>\n",
       "<table border=\"1\" class=\"dataframe\">\n",
       "  <thead>\n",
       "    <tr style=\"text-align: right;\">\n",
       "      <th></th>\n",
       "      <th>STATUS</th>\n",
       "      <th>ASK_AMT</th>\n",
       "      <th>IS_SUCCESSFUL</th>\n",
       "      <th>APPLICATION_TYPE_Other</th>\n",
       "      <th>APPLICATION_TYPE_T10</th>\n",
       "      <th>APPLICATION_TYPE_T19</th>\n",
       "      <th>APPLICATION_TYPE_T3</th>\n",
       "      <th>APPLICATION_TYPE_T4</th>\n",
       "      <th>APPLICATION_TYPE_T5</th>\n",
       "      <th>APPLICATION_TYPE_T6</th>\n",
       "      <th>...</th>\n",
       "      <th>INCOME_AMT_1-9999</th>\n",
       "      <th>INCOME_AMT_10000-24999</th>\n",
       "      <th>INCOME_AMT_100000-499999</th>\n",
       "      <th>INCOME_AMT_10M-50M</th>\n",
       "      <th>INCOME_AMT_1M-5M</th>\n",
       "      <th>INCOME_AMT_25000-99999</th>\n",
       "      <th>INCOME_AMT_50M+</th>\n",
       "      <th>INCOME_AMT_5M-10M</th>\n",
       "      <th>SPECIAL_CONSIDERATIONS_N</th>\n",
       "      <th>SPECIAL_CONSIDERATIONS_Y</th>\n",
       "    </tr>\n",
       "  </thead>\n",
       "  <tbody>\n",
       "    <tr>\n",
       "      <th>0</th>\n",
       "      <td>1</td>\n",
       "      <td>5000</td>\n",
       "      <td>1</td>\n",
       "      <td>0.0</td>\n",
       "      <td>1.0</td>\n",
       "      <td>0.0</td>\n",
       "      <td>0.0</td>\n",
       "      <td>0.0</td>\n",
       "      <td>0.0</td>\n",
       "      <td>0.0</td>\n",
       "      <td>...</td>\n",
       "      <td>0.0</td>\n",
       "      <td>0.0</td>\n",
       "      <td>0.0</td>\n",
       "      <td>0.0</td>\n",
       "      <td>0.0</td>\n",
       "      <td>0.0</td>\n",
       "      <td>0.0</td>\n",
       "      <td>0.0</td>\n",
       "      <td>1.0</td>\n",
       "      <td>0.0</td>\n",
       "    </tr>\n",
       "    <tr>\n",
       "      <th>1</th>\n",
       "      <td>1</td>\n",
       "      <td>108590</td>\n",
       "      <td>1</td>\n",
       "      <td>0.0</td>\n",
       "      <td>0.0</td>\n",
       "      <td>0.0</td>\n",
       "      <td>1.0</td>\n",
       "      <td>0.0</td>\n",
       "      <td>0.0</td>\n",
       "      <td>0.0</td>\n",
       "      <td>...</td>\n",
       "      <td>1.0</td>\n",
       "      <td>0.0</td>\n",
       "      <td>0.0</td>\n",
       "      <td>0.0</td>\n",
       "      <td>0.0</td>\n",
       "      <td>0.0</td>\n",
       "      <td>0.0</td>\n",
       "      <td>0.0</td>\n",
       "      <td>1.0</td>\n",
       "      <td>0.0</td>\n",
       "    </tr>\n",
       "    <tr>\n",
       "      <th>2</th>\n",
       "      <td>1</td>\n",
       "      <td>5000</td>\n",
       "      <td>0</td>\n",
       "      <td>0.0</td>\n",
       "      <td>0.0</td>\n",
       "      <td>0.0</td>\n",
       "      <td>0.0</td>\n",
       "      <td>0.0</td>\n",
       "      <td>1.0</td>\n",
       "      <td>0.0</td>\n",
       "      <td>...</td>\n",
       "      <td>0.0</td>\n",
       "      <td>0.0</td>\n",
       "      <td>0.0</td>\n",
       "      <td>0.0</td>\n",
       "      <td>0.0</td>\n",
       "      <td>0.0</td>\n",
       "      <td>0.0</td>\n",
       "      <td>0.0</td>\n",
       "      <td>1.0</td>\n",
       "      <td>0.0</td>\n",
       "    </tr>\n",
       "    <tr>\n",
       "      <th>3</th>\n",
       "      <td>1</td>\n",
       "      <td>6692</td>\n",
       "      <td>1</td>\n",
       "      <td>0.0</td>\n",
       "      <td>0.0</td>\n",
       "      <td>0.0</td>\n",
       "      <td>1.0</td>\n",
       "      <td>0.0</td>\n",
       "      <td>0.0</td>\n",
       "      <td>0.0</td>\n",
       "      <td>...</td>\n",
       "      <td>0.0</td>\n",
       "      <td>1.0</td>\n",
       "      <td>0.0</td>\n",
       "      <td>0.0</td>\n",
       "      <td>0.0</td>\n",
       "      <td>0.0</td>\n",
       "      <td>0.0</td>\n",
       "      <td>0.0</td>\n",
       "      <td>1.0</td>\n",
       "      <td>0.0</td>\n",
       "    </tr>\n",
       "    <tr>\n",
       "      <th>4</th>\n",
       "      <td>1</td>\n",
       "      <td>142590</td>\n",
       "      <td>1</td>\n",
       "      <td>0.0</td>\n",
       "      <td>0.0</td>\n",
       "      <td>0.0</td>\n",
       "      <td>1.0</td>\n",
       "      <td>0.0</td>\n",
       "      <td>0.0</td>\n",
       "      <td>0.0</td>\n",
       "      <td>...</td>\n",
       "      <td>0.0</td>\n",
       "      <td>0.0</td>\n",
       "      <td>1.0</td>\n",
       "      <td>0.0</td>\n",
       "      <td>0.0</td>\n",
       "      <td>0.0</td>\n",
       "      <td>0.0</td>\n",
       "      <td>0.0</td>\n",
       "      <td>1.0</td>\n",
       "      <td>0.0</td>\n",
       "    </tr>\n",
       "  </tbody>\n",
       "</table>\n",
       "<p>5 rows × 69 columns</p>\n",
       "</div>"
      ],
      "text/plain": [
       "   STATUS  ASK_AMT  IS_SUCCESSFUL  APPLICATION_TYPE_Other  \\\n",
       "0       1     5000              1                     0.0   \n",
       "1       1   108590              1                     0.0   \n",
       "2       1     5000              0                     0.0   \n",
       "3       1     6692              1                     0.0   \n",
       "4       1   142590              1                     0.0   \n",
       "\n",
       "   APPLICATION_TYPE_T10  APPLICATION_TYPE_T19  APPLICATION_TYPE_T3  \\\n",
       "0                   1.0                   0.0                  0.0   \n",
       "1                   0.0                   0.0                  1.0   \n",
       "2                   0.0                   0.0                  0.0   \n",
       "3                   0.0                   0.0                  1.0   \n",
       "4                   0.0                   0.0                  1.0   \n",
       "\n",
       "   APPLICATION_TYPE_T4  APPLICATION_TYPE_T5  APPLICATION_TYPE_T6  ...  \\\n",
       "0                  0.0                  0.0                  0.0  ...   \n",
       "1                  0.0                  0.0                  0.0  ...   \n",
       "2                  0.0                  1.0                  0.0  ...   \n",
       "3                  0.0                  0.0                  0.0  ...   \n",
       "4                  0.0                  0.0                  0.0  ...   \n",
       "\n",
       "   INCOME_AMT_1-9999  INCOME_AMT_10000-24999  INCOME_AMT_100000-499999  \\\n",
       "0                0.0                     0.0                       0.0   \n",
       "1                1.0                     0.0                       0.0   \n",
       "2                0.0                     0.0                       0.0   \n",
       "3                0.0                     1.0                       0.0   \n",
       "4                0.0                     0.0                       1.0   \n",
       "\n",
       "   INCOME_AMT_10M-50M  INCOME_AMT_1M-5M  INCOME_AMT_25000-99999  \\\n",
       "0                 0.0               0.0                     0.0   \n",
       "1                 0.0               0.0                     0.0   \n",
       "2                 0.0               0.0                     0.0   \n",
       "3                 0.0               0.0                     0.0   \n",
       "4                 0.0               0.0                     0.0   \n",
       "\n",
       "   INCOME_AMT_50M+  INCOME_AMT_5M-10M  SPECIAL_CONSIDERATIONS_N  \\\n",
       "0              0.0                0.0                       1.0   \n",
       "1              0.0                0.0                       1.0   \n",
       "2              0.0                0.0                       1.0   \n",
       "3              0.0                0.0                       1.0   \n",
       "4              0.0                0.0                       1.0   \n",
       "\n",
       "   SPECIAL_CONSIDERATIONS_Y  \n",
       "0                       0.0  \n",
       "1                       0.0  \n",
       "2                       0.0  \n",
       "3                       0.0  \n",
       "4                       0.0  \n",
       "\n",
       "[5 rows x 69 columns]"
      ]
     },
     "execution_count": 12,
     "metadata": {},
     "output_type": "execute_result"
    }
   ],
   "source": [
    "# Convert categorical data to numeric with `pd.get_dummies`\n",
    "application_df = pd.get_dummies(application_df,dtype=float)\n",
    "application_df.head()"
   ]
  },
  {
   "cell_type": "code",
   "execution_count": 13,
   "metadata": {},
   "outputs": [],
   "source": [
    "# Split our preprocessed data into our features and target arrays\n",
    "y = application_df['IS_SUCCESSFUL'].values\n",
    "\n",
    "# Drop the \"Is Successful\" column from X\n",
    "X = application_df.drop('IS_SUCCESSFUL', axis=1).values\n",
    "\n",
    "# Split the preprocessed data into a training and testing dataset\n",
    "X_train, X_test, y_train, y_test = train_test_split(X,y,random_state = 42)"
   ]
  },
  {
   "cell_type": "code",
   "execution_count": 14,
   "metadata": {},
   "outputs": [],
   "source": [
    "# Create a StandardScaler instances\n",
    "scaler = StandardScaler()\n",
    "\n",
    "# Fit the StandardScaler\n",
    "X_scaler = scaler.fit(X_train)\n",
    "\n",
    "# Scale the data\n",
    "X_train_scaled = X_scaler.transform(X_train)\n",
    "X_test_scaled = X_scaler.transform(X_test)"
   ]
  },
  {
   "cell_type": "markdown",
   "metadata": {},
   "source": [
    "## Compile, Train and Evaluate the Model"
   ]
  },
  {
   "cell_type": "code",
   "execution_count": 15,
   "metadata": {},
   "outputs": [
    {
     "name": "stdout",
     "output_type": "stream",
     "text": [
      "WARNING:tensorflow:From c:\\Users\\dalem\\anaconda3\\envs\\PythonData\\lib\\site-packages\\tensorflow\\python\\ops\\init_ops.py:1251: calling VarianceScaling.__init__ (from tensorflow.python.ops.init_ops) with dtype is deprecated and will be removed in a future version.\n",
      "Instructions for updating:\n",
      "Call initializer instance with the dtype argument instead of passing it to the constructor\n",
      "Model: \"sequential\"\n",
      "_________________________________________________________________\n",
      "Layer (type)                 Output Shape              Param #   \n",
      "=================================================================\n",
      "dense (Dense)                (None, 120)               8280      \n",
      "_________________________________________________________________\n",
      "dense_1 (Dense)              (None, 120)               14520     \n",
      "_________________________________________________________________\n",
      "dense_2 (Dense)              (None, 1)                 121       \n",
      "=================================================================\n",
      "Total params: 22,921\n",
      "Trainable params: 22,921\n",
      "Non-trainable params: 0\n",
      "_________________________________________________________________\n"
     ]
    }
   ],
   "source": [
    "# Define the model - deep neural net, i.e., the number of input features and hidden nodes for each layer.\n",
    "number_input_features = len( X_train_scaled[0])\n",
    "hidden_nodes_layer1=120\n",
    "hidden_nodes_layer2=120\n",
    "\n",
    "nn = tf.keras.models.Sequential()\n",
    "\n",
    "# First hidden layer\n",
    "nn.add(\n",
    "    tf.keras.layers.Dense(units=hidden_nodes_layer1, input_dim=number_input_features, activation=\"relu\")\n",
    ")\n",
    "\n",
    "# Second hidden layer\n",
    "nn.add(tf.keras.layers.Dense(units=hidden_nodes_layer2, activation=\"relu\"))\n",
    "\n",
    "# Output layer\n",
    "nn.add(tf.keras.layers.Dense(units=1, activation=\"sigmoid\"))\n",
    "\n",
    "# Check the structure of the model\n",
    "nn.summary()"
   ]
  },
  {
   "cell_type": "code",
   "execution_count": 16,
   "metadata": {},
   "outputs": [
    {
     "name": "stdout",
     "output_type": "stream",
     "text": [
      "WARNING:tensorflow:From c:\\Users\\dalem\\anaconda3\\envs\\PythonData\\lib\\site-packages\\tensorflow\\python\\ops\\nn_impl.py:180: add_dispatch_support.<locals>.wrapper (from tensorflow.python.ops.array_ops) is deprecated and will be removed in a future version.\n",
      "Instructions for updating:\n",
      "Use tf.where in 2.0, which has the same broadcast rule as np.where\n"
     ]
    }
   ],
   "source": [
    "# Compile the model\n",
    "nn.compile(loss=\"binary_crossentropy\", optimizer=\"adam\", metrics=[\"accuracy\"])"
   ]
  },
  {
   "cell_type": "code",
   "execution_count": 17,
   "metadata": {},
   "outputs": [
    {
     "name": "stdout",
     "output_type": "stream",
     "text": [
      "WARNING:tensorflow:`period` argument is deprecated. Please use `save_freq` to specify the frequency in number of samples seen.\n"
     ]
    }
   ],
   "source": [
    "import os\n",
    "from tensorflow.keras.callbacks import ModelCheckpoint\n",
    "\n",
    "os.makedirs(\"checkpoints_v1-1/\", exist_ok=True)\n",
    "checkpoint_path = \"checkpoints_v1-1/weights.{epoch:02d}.hdf5\"\n",
    "\n",
    "cp_callback = ModelCheckpoint(filepath=checkpoint_path, save_weights_only = True, period = 5)\n"
   ]
  },
  {
   "cell_type": "code",
   "execution_count": 18,
   "metadata": {},
   "outputs": [
    {
     "name": "stdout",
     "output_type": "stream",
     "text": [
      "Epoch 1/100\n",
      "25724/25724 [==============================] - 1s 44us/sample - loss: 0.5690 - acc: 0.72260s - loss: 0.5847\n",
      "Epoch 2/100\n",
      "25724/25724 [==============================] - 1s 43us/sample - loss: 0.5538 - acc: 0.72861s - loss: 0\n",
      "Epoch 3/100\n",
      "25724/25724 [==============================] - 1s 37us/sample - loss: 0.5501 - acc: 0.7315\n",
      "Epoch 4/100\n",
      "25724/25724 [==============================] - 1s 38us/sample - loss: 0.5478 - acc: 0.73110s - loss: 0\n",
      "Epoch 5/100\n",
      "25724/25724 [==============================] - 1s 39us/sample - loss: 0.5459 - acc: 0.7324\n",
      "Epoch 6/100\n",
      "25724/25724 [==============================] - 1s 36us/sample - loss: 0.5450 - acc: 0.7326\n",
      "Epoch 7/100\n",
      "25724/25724 [==============================] - 1s 46us/sample - loss: 0.5442 - acc: 0.7330\n",
      "Epoch 8/100\n",
      "25724/25724 [==============================] - 1s 40us/sample - loss: 0.5432 - acc: 0.7346\n",
      "Epoch 9/100\n",
      "25724/25724 [==============================] - 1s 38us/sample - loss: 0.5428 - acc: 0.7351\n",
      "Epoch 10/100\n",
      "25724/25724 [==============================] - 1s 36us/sample - loss: 0.5420 - acc: 0.7357\n",
      "Epoch 11/100\n",
      "25724/25724 [==============================] - 1s 35us/sample - loss: 0.5410 - acc: 0.7364\n",
      "Epoch 12/100\n",
      "25724/25724 [==============================] - 1s 41us/sample - loss: 0.5411 - acc: 0.7354\n",
      "Epoch 13/100\n",
      "25724/25724 [==============================] - 1s 38us/sample - loss: 0.5405 - acc: 0.7363\n",
      "Epoch 14/100\n",
      "25724/25724 [==============================] - 1s 37us/sample - loss: 0.5402 - acc: 0.7367\n",
      "Epoch 15/100\n",
      "25724/25724 [==============================] - 1s 38us/sample - loss: 0.5395 - acc: 0.7378\n",
      "Epoch 16/100\n",
      "25724/25724 [==============================] - 1s 37us/sample - loss: 0.5394 - acc: 0.7376\n",
      "Epoch 17/100\n",
      "25724/25724 [==============================] - 1s 40us/sample - loss: 0.5384 - acc: 0.7373\n",
      "Epoch 18/100\n",
      "25724/25724 [==============================] - 1s 45us/sample - loss: 0.5382 - acc: 0.73700s - loss: 0.5391 - acc: 0.7 - ETA: 0s - loss: 0.5384 - acc: 0.73\n",
      "Epoch 19/100\n",
      "25724/25724 [==============================] - 1s 42us/sample - loss: 0.5370 - acc: 0.73940s - loss: 0.53\n",
      "Epoch 20/100\n",
      "25724/25724 [==============================] - 1s 42us/sample - loss: 0.5379 - acc: 0.7383\n",
      "Epoch 21/100\n",
      "25724/25724 [==============================] - 1s 41us/sample - loss: 0.5370 - acc: 0.73860s - loss: 0.5353 - acc: \n",
      "Epoch 22/100\n",
      "25724/25724 [==============================] - 1s 50us/sample - loss: 0.5361 - acc: 0.73910s - loss: 0\n",
      "Epoch 23/100\n",
      "25724/25724 [==============================] - 1s 41us/sample - loss: 0.5363 - acc: 0.73880s - loss: 0.52\n",
      "Epoch 24/100\n",
      "25724/25724 [==============================] - 1s 43us/sample - loss: 0.5358 - acc: 0.73870s - loss: 0.53\n",
      "Epoch 25/100\n",
      "25724/25724 [==============================] - 1s 43us/sample - loss: 0.5359 - acc: 0.7387\n",
      "Epoch 26/100\n",
      "25724/25724 [==============================] - 1s 41us/sample - loss: 0.5353 - acc: 0.7392\n",
      "Epoch 27/100\n",
      "25724/25724 [==============================] - 1s 47us/sample - loss: 0.5351 - acc: 0.74060s - loss: 0.5329 - acc: 0.7\n",
      "Epoch 28/100\n",
      "25724/25724 [==============================] - 1s 46us/sample - loss: 0.5350 - acc: 0.7401\n",
      "Epoch 29/100\n",
      "25724/25724 [==============================] - 1s 40us/sample - loss: 0.5345 - acc: 0.7397\n",
      "Epoch 30/100\n",
      "25724/25724 [==============================] - 1s 40us/sample - loss: 0.5342 - acc: 0.7404\n",
      "Epoch 31/100\n",
      "25724/25724 [==============================] - 1s 40us/sample - loss: 0.5341 - acc: 0.7402\n",
      "Epoch 32/100\n",
      "25724/25724 [==============================] - 1s 46us/sample - loss: 0.5335 - acc: 0.7396\n",
      "Epoch 33/100\n",
      "25724/25724 [==============================] - 1s 40us/sample - loss: 0.5334 - acc: 0.7404\n",
      "Epoch 34/100\n",
      "25724/25724 [==============================] - 1s 40us/sample - loss: 0.5332 - acc: 0.74070s - loss: 0.5329 - acc: \n",
      "Epoch 35/100\n",
      "25724/25724 [==============================] - 1s 41us/sample - loss: 0.5333 - acc: 0.74050s - loss: 0.5333 - acc: 0\n",
      "Epoch 36/100\n",
      "25724/25724 [==============================] - 1s 41us/sample - loss: 0.5331 - acc: 0.7405\n",
      "Epoch 37/100\n",
      "25724/25724 [==============================] - 1s 45us/sample - loss: 0.5328 - acc: 0.7401\n",
      "Epoch 38/100\n",
      "25724/25724 [==============================] - 1s 40us/sample - loss: 0.5324 - acc: 0.7400\n",
      "Epoch 39/100\n",
      "25724/25724 [==============================] - 1s 41us/sample - loss: 0.5324 - acc: 0.74090s - loss: 0.5289 - ac\n",
      "Epoch 40/100\n",
      "25724/25724 [==============================] - 1s 41us/sample - loss: 0.5321 - acc: 0.7408\n",
      "Epoch 41/100\n",
      "25724/25724 [==============================] - 1s 41us/sample - loss: 0.5321 - acc: 0.7408\n",
      "Epoch 42/100\n",
      "25724/25724 [==============================] - 1s 46us/sample - loss: 0.5319 - acc: 0.74060s - loss: 0.5320 - \n",
      "Epoch 43/100\n",
      "25724/25724 [==============================] - 1s 40us/sample - loss: 0.5319 - acc: 0.7414\n",
      "Epoch 44/100\n",
      "25724/25724 [==============================] - 1s 41us/sample - loss: 0.5315 - acc: 0.7409\n",
      "Epoch 45/100\n",
      "25724/25724 [==============================] - 1s 41us/sample - loss: 0.5308 - acc: 0.74060s - loss: 0.\n",
      "Epoch 46/100\n",
      "25724/25724 [==============================] - 1s 41us/sample - loss: 0.5316 - acc: 0.74120s - loss: 0.5320 -\n",
      "Epoch 47/100\n",
      "25724/25724 [==============================] - 1s 46us/sample - loss: 0.5312 - acc: 0.7404\n",
      "Epoch 48/100\n",
      "25724/25724 [==============================] - 1s 40us/sample - loss: 0.5311 - acc: 0.7414\n",
      "Epoch 49/100\n",
      "25724/25724 [==============================] - 1s 40us/sample - loss: 0.5306 - acc: 0.7417\n",
      "Epoch 50/100\n",
      "25724/25724 [==============================] - 1s 42us/sample - loss: 0.5305 - acc: 0.74290s - loss: 0.5305 - acc: 0.743\n",
      "Epoch 51/100\n",
      "25724/25724 [==============================] - 1s 40us/sample - loss: 0.5300 - acc: 0.7423\n",
      "Epoch 52/100\n",
      "25724/25724 [==============================] - 1s 47us/sample - loss: 0.5300 - acc: 0.7418\n",
      "Epoch 53/100\n",
      "25724/25724 [==============================] - 1s 41us/sample - loss: 0.5306 - acc: 0.74200s - loss: 0.5299 - acc:  - ETA: 0s - loss: 0.5304 - acc: 0.\n",
      "Epoch 54/100\n",
      "25724/25724 [==============================] - 1s 41us/sample - loss: 0.5298 - acc: 0.7422\n",
      "Epoch 55/100\n",
      "25724/25724 [==============================] - 1s 41us/sample - loss: 0.5295 - acc: 0.74220s - loss: 0.5301 - acc\n",
      "Epoch 56/100\n",
      "25724/25724 [==============================] - 1s 41us/sample - loss: 0.5297 - acc: 0.7416\n",
      "Epoch 57/100\n",
      "25724/25724 [==============================] - 1s 47us/sample - loss: 0.5301 - acc: 0.74280s - loss: 0.5308 - ac\n",
      "Epoch 58/100\n",
      "25724/25724 [==============================] - 1s 40us/sample - loss: 0.5296 - acc: 0.74140s - loss: 0.5290 - acc: 0.\n",
      "Epoch 59/100\n",
      "25724/25724 [==============================] - 1s 42us/sample - loss: 0.5294 - acc: 0.74270s - loss: 0.5231 - a\n",
      "Epoch 60/100\n",
      "25724/25724 [==============================] - 1s 41us/sample - loss: 0.5295 - acc: 0.74210s - loss: 0.5302 - a\n",
      "Epoch 61/100\n",
      "25724/25724 [==============================] - 1s 41us/sample - loss: 0.5294 - acc: 0.7423\n",
      "Epoch 62/100\n",
      "25724/25724 [==============================] - 1s 47us/sample - loss: 0.5289 - acc: 0.7422\n",
      "Epoch 63/100\n",
      "25724/25724 [==============================] - 1s 41us/sample - loss: 0.5288 - acc: 0.7414\n",
      "Epoch 64/100\n",
      "25724/25724 [==============================] - 1s 41us/sample - loss: 0.5287 - acc: 0.7428\n",
      "Epoch 65/100\n",
      "25724/25724 [==============================] - 1s 41us/sample - loss: 0.5289 - acc: 0.7424\n",
      "Epoch 66/100\n",
      "25724/25724 [==============================] - 1s 41us/sample - loss: 0.5293 - acc: 0.7416\n",
      "Epoch 67/100\n",
      "25724/25724 [==============================] - 1s 47us/sample - loss: 0.5285 - acc: 0.7421\n",
      "Epoch 68/100\n",
      "25724/25724 [==============================] - 1s 41us/sample - loss: 0.5293 - acc: 0.7430\n",
      "Epoch 69/100\n",
      "25724/25724 [==============================] - 1s 41us/sample - loss: 0.5283 - acc: 0.7428\n",
      "Epoch 70/100\n",
      "25724/25724 [==============================] - 1s 43us/sample - loss: 0.5286 - acc: 0.74240s - loss: 0\n",
      "Epoch 71/100\n",
      "25724/25724 [==============================] - 1s 41us/sample - loss: 0.5280 - acc: 0.74170s - loss: 0.5240 - acc\n",
      "Epoch 72/100\n",
      "25724/25724 [==============================] - 1s 52us/sample - loss: 0.5285 - acc: 0.7428\n",
      "Epoch 73/100\n",
      "25724/25724 [==============================] - 1s 41us/sample - loss: 0.5278 - acc: 0.74290s - loss: 0.5217 - acc: \n",
      "Epoch 74/100\n",
      "25724/25724 [==============================] - 1s 41us/sample - loss: 0.5276 - acc: 0.74270s - loss: 0.5295 -  - ETA: 0s - loss: 0.5253 - acc: 0\n",
      "Epoch 75/100\n",
      "25724/25724 [==============================] - ETA: 0s - loss: 0.5280 - acc: 0.742 - 1s 41us/sample - loss: 0.5285 - acc: 0.7431\n",
      "Epoch 76/100\n",
      "25724/25724 [==============================] - 1s 41us/sample - loss: 0.5295 - acc: 0.74230s - loss: 0.5292 - ac\n",
      "Epoch 77/100\n",
      "25724/25724 [==============================] - 1s 47us/sample - loss: 0.5289 - acc: 0.7426\n",
      "Epoch 78/100\n",
      "25724/25724 [==============================] - 1s 41us/sample - loss: 0.5282 - acc: 0.74290s - loss: 0.5291 - acc: 0.740 - ETA: 0s - loss: 0.5286 - acc:\n",
      "Epoch 79/100\n",
      "25724/25724 [==============================] - 1s 41us/sample - loss: 0.5275 - acc: 0.7430\n",
      "Epoch 80/100\n",
      "25724/25724 [==============================] - 1s 41us/sample - loss: 0.5273 - acc: 0.74270s - loss: 0.523\n",
      "Epoch 81/100\n",
      "25724/25724 [==============================] - 1s 41us/sample - loss: 0.5276 - acc: 0.7427\n",
      "Epoch 82/100\n",
      "25724/25724 [==============================] - 1s 47us/sample - loss: 0.5273 - acc: 0.7424\n",
      "Epoch 83/100\n",
      "25724/25724 [==============================] - 1s 40us/sample - loss: 0.5274 - acc: 0.7428\n",
      "Epoch 84/100\n",
      "25724/25724 [==============================] - 1s 41us/sample - loss: 0.5275 - acc: 0.7424\n",
      "Epoch 85/100\n",
      "25724/25724 [==============================] - 1s 40us/sample - loss: 0.5275 - acc: 0.7428\n",
      "Epoch 86/100\n",
      "25724/25724 [==============================] - 1s 41us/sample - loss: 0.5270 - acc: 0.7434\n",
      "Epoch 87/100\n",
      "25724/25724 [==============================] - 1s 46us/sample - loss: 0.5277 - acc: 0.74380s - loss: 0.5306 - acc:\n",
      "Epoch 88/100\n",
      "25724/25724 [==============================] - 1s 41us/sample - loss: 0.5281 - acc: 0.7427\n",
      "Epoch 89/100\n",
      "25724/25724 [==============================] - 1s 41us/sample - loss: 0.5281 - acc: 0.7421\n",
      "Epoch 90/100\n",
      "25724/25724 [==============================] - 1s 43us/sample - loss: 0.5276 - acc: 0.74300s - loss: 0.5263 \n",
      "Epoch 91/100\n",
      "25724/25724 [==============================] - 1s 41us/sample - loss: 0.5279 - acc: 0.7431\n",
      "Epoch 92/100\n",
      "25724/25724 [==============================] - 1s 47us/sample - loss: 0.5268 - acc: 0.7423\n",
      "Epoch 93/100\n",
      "25724/25724 [==============================] - 1s 41us/sample - loss: 0.5269 - acc: 0.7427\n",
      "Epoch 94/100\n",
      "25724/25724 [==============================] - 1s 41us/sample - loss: 0.5269 - acc: 0.7433\n",
      "Epoch 95/100\n",
      "25724/25724 [==============================] - ETA: 0s - loss: 0.5269 - acc: 0.7429- ETA: 0s - loss: 0.5330  - 1s 41us/sample - loss: 0.5268 - acc: 0.7428\n",
      "Epoch 96/100\n",
      "25724/25724 [==============================] - 1s 42us/sample - loss: 0.5277 - acc: 0.7427\n",
      "Epoch 97/100\n",
      "25724/25724 [==============================] - 1s 46us/sample - loss: 0.5305 - acc: 0.7428\n",
      "Epoch 98/100\n",
      "25724/25724 [==============================] - 1s 42us/sample - loss: 0.5270 - acc: 0.74350s - loss: 0.5210 - a\n",
      "Epoch 99/100\n",
      "25724/25724 [==============================] - 1s 43us/sample - loss: 0.5272 - acc: 0.74260s - loss: 0.\n",
      "Epoch 100/100\n",
      "25724/25724 [==============================] - 1s 41us/sample - loss: 0.5264 - acc: 0.74280s - loss: 0.51\n"
     ]
    }
   ],
   "source": [
    "# Train the model\n",
    "fit_model = nn.fit(X_train_scaled,y_train,epochs=100, callbacks=[cp_callback])"
   ]
  },
  {
   "cell_type": "code",
   "execution_count": 21,
   "metadata": {},
   "outputs": [
    {
     "data": {
      "image/png": "[encoded data removed]",
      "text/plain": [
       "<Figure size 432x288 with 1 Axes>"
      ]
     },
     "metadata": {
      "needs_background": "light"
     },
     "output_type": "display_data"
    },
    {
     "data": {
      "image/png": "[encoded data removed]",
      "text/plain": [
       "<Figure size 432x288 with 1 Axes>"
      ]
     },
     "metadata": {
      "needs_background": "light"
     },
     "output_type": "display_data"
    }
   ],
   "source": [
    "# Create a DataFrame containing training history\n",
    "train_results_df = pd.DataFrame(fit_model.history)\n",
    "\n",
    "# Increase the index by 1 to match the number of epochs\n",
    "train_results_df.index += 1\n",
    "\n",
    "# Plot the loss\n",
    "V1_1_loss = train_results_df.plot(y=\"loss\", color='darkred')\n",
    "plt.savefig('Plots/V1-1_loss.png')\n",
    "\n",
    "V1_1_Acc = train_results_df.plot(y=\"acc\", color='green')\n",
    "plt.savefig('Plots/V1-1_acc.png')"
   ]
  },
  {
   "cell_type": "code",
   "execution_count": 22,
   "metadata": {},
   "outputs": [
    {
     "name": "stdout",
     "output_type": "stream",
     "text": [
      "8575/8575 - 0s - loss: 0.6006 - acc: 0.7327\n",
      "Loss: 0.6005868098721907, Accuracy: 0.7327113747596741\n"
     ]
    }
   ],
   "source": [
    "# Evaluate the model using the test data\n",
    "model_loss, model_accuracy = nn.evaluate(X_test_scaled,y_test,verbose=2)\n",
    "print(f\"Loss: {model_loss}, Accuracy: {model_accuracy}\")"
   ]
  },
  {
   "cell_type": "code",
   "execution_count": 23,
   "metadata": {},
   "outputs": [],
   "source": [
    "# # Export our model to HDF5 file\n",
    "nn.save('Output/Model_V1-1.h5')"
   ]
  },
  {
   "cell_type": "code",
   "execution_count": null,
   "metadata": {},
   "outputs": [],
   "source": []
  }
 ],
 "metadata": {
  "kernelspec": {
   "display_name": "Python 3.7.7 ('PythonData')",
   "language": "python",
   "name": "python3"
  },
  "language_info": {
   "codemirror_mode": {
    "name": "ipython",
    "version": 3
   },
   "file_extension": ".py",
   "mimetype": "text/x-python",
   "name": "python",
   "nbconvert_exporter": "python",
   "pygments_lexer": "ipython3",
   "version": "3.7.7"
  },
  "vscode": {
   "interpreter": {
    "hash": "fc0bb293cbca8218ec797ab9fc01fcc16781a8e859e5b341e3a25b2353295d62"
   }
  }
 },
 "nbformat": 4,
 "nbformat_minor": 4
}
