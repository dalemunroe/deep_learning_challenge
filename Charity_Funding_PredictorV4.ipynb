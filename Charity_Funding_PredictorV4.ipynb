{
 "cells": [
  {
   "cell_type": "markdown",
   "metadata": {},
   "source": [
    "## Preprocessing"
   ]
  },
  {
   "cell_type": "code",
   "execution_count": 167,
   "metadata": {},
   "outputs": [
    {
     "data": {
      "text/html": [
       "<div>\n",
       "<style scoped>\n",
       "    .dataframe tbody tr th:only-of-type {\n",
       "        vertical-align: middle;\n",
       "    }\n",
       "\n",
       "    .dataframe tbody tr th {\n",
       "        vertical-align: top;\n",
       "    }\n",
       "\n",
       "    .dataframe thead th {\n",
       "        text-align: right;\n",
       "    }\n",
       "</style>\n",
       "<table border=\"1\" class=\"dataframe\">\n",
       "  <thead>\n",
       "    <tr style=\"text-align: right;\">\n",
       "      <th></th>\n",
       "      <th>EIN</th>\n",
       "      <th>NAME</th>\n",
       "      <th>APPLICATION_TYPE</th>\n",
       "      <th>AFFILIATION</th>\n",
       "      <th>CLASSIFICATION</th>\n",
       "      <th>USE_CASE</th>\n",
       "      <th>ORGANIZATION</th>\n",
       "      <th>STATUS</th>\n",
       "      <th>INCOME_AMT</th>\n",
       "      <th>SPECIAL_CONSIDERATIONS</th>\n",
       "      <th>ASK_AMT</th>\n",
       "      <th>IS_SUCCESSFUL</th>\n",
       "    </tr>\n",
       "  </thead>\n",
       "  <tbody>\n",
       "    <tr>\n",
       "      <th>0</th>\n",
       "      <td>10520599</td>\n",
       "      <td>BLUE KNIGHTS MOTORCYCLE CLUB</td>\n",
       "      <td>T10</td>\n",
       "      <td>Independent</td>\n",
       "      <td>C1000</td>\n",
       "      <td>ProductDev</td>\n",
       "      <td>Association</td>\n",
       "      <td>1</td>\n",
       "      <td>0</td>\n",
       "      <td>N</td>\n",
       "      <td>5000</td>\n",
       "      <td>1</td>\n",
       "    </tr>\n",
       "    <tr>\n",
       "      <th>1</th>\n",
       "      <td>10531628</td>\n",
       "      <td>AMERICAN CHESAPEAKE CLUB CHARITABLE TR</td>\n",
       "      <td>T3</td>\n",
       "      <td>Independent</td>\n",
       "      <td>C2000</td>\n",
       "      <td>Preservation</td>\n",
       "      <td>Co-operative</td>\n",
       "      <td>1</td>\n",
       "      <td>1-9999</td>\n",
       "      <td>N</td>\n",
       "      <td>108590</td>\n",
       "      <td>1</td>\n",
       "    </tr>\n",
       "    <tr>\n",
       "      <th>2</th>\n",
       "      <td>10547893</td>\n",
       "      <td>ST CLOUD PROFESSIONAL FIREFIGHTERS</td>\n",
       "      <td>T5</td>\n",
       "      <td>CompanySponsored</td>\n",
       "      <td>C3000</td>\n",
       "      <td>ProductDev</td>\n",
       "      <td>Association</td>\n",
       "      <td>1</td>\n",
       "      <td>0</td>\n",
       "      <td>N</td>\n",
       "      <td>5000</td>\n",
       "      <td>0</td>\n",
       "    </tr>\n",
       "    <tr>\n",
       "      <th>3</th>\n",
       "      <td>10553066</td>\n",
       "      <td>SOUTHSIDE ATHLETIC ASSOCIATION</td>\n",
       "      <td>T3</td>\n",
       "      <td>CompanySponsored</td>\n",
       "      <td>C2000</td>\n",
       "      <td>Preservation</td>\n",
       "      <td>Trust</td>\n",
       "      <td>1</td>\n",
       "      <td>10000-24999</td>\n",
       "      <td>N</td>\n",
       "      <td>6692</td>\n",
       "      <td>1</td>\n",
       "    </tr>\n",
       "    <tr>\n",
       "      <th>4</th>\n",
       "      <td>10556103</td>\n",
       "      <td>GENETIC RESEARCH INSTITUTE OF THE DESERT</td>\n",
       "      <td>T3</td>\n",
       "      <td>Independent</td>\n",
       "      <td>C1000</td>\n",
       "      <td>Heathcare</td>\n",
       "      <td>Trust</td>\n",
       "      <td>1</td>\n",
       "      <td>100000-499999</td>\n",
       "      <td>N</td>\n",
       "      <td>142590</td>\n",
       "      <td>1</td>\n",
       "    </tr>\n",
       "  </tbody>\n",
       "</table>\n",
       "</div>"
      ],
      "text/plain": [
       "        EIN                                      NAME APPLICATION_TYPE  \\\n",
       "0  10520599              BLUE KNIGHTS MOTORCYCLE CLUB              T10   \n",
       "1  10531628    AMERICAN CHESAPEAKE CLUB CHARITABLE TR               T3   \n",
       "2  10547893        ST CLOUD PROFESSIONAL FIREFIGHTERS               T5   \n",
       "3  10553066            SOUTHSIDE ATHLETIC ASSOCIATION               T3   \n",
       "4  10556103  GENETIC RESEARCH INSTITUTE OF THE DESERT               T3   \n",
       "\n",
       "        AFFILIATION CLASSIFICATION      USE_CASE  ORGANIZATION  STATUS  \\\n",
       "0       Independent          C1000    ProductDev   Association       1   \n",
       "1       Independent          C2000  Preservation  Co-operative       1   \n",
       "2  CompanySponsored          C3000    ProductDev   Association       1   \n",
       "3  CompanySponsored          C2000  Preservation         Trust       1   \n",
       "4       Independent          C1000     Heathcare         Trust       1   \n",
       "\n",
       "      INCOME_AMT SPECIAL_CONSIDERATIONS  ASK_AMT  IS_SUCCESSFUL  \n",
       "0              0                      N     5000              1  \n",
       "1         1-9999                      N   108590              1  \n",
       "2              0                      N     5000              0  \n",
       "3    10000-24999                      N     6692              1  \n",
       "4  100000-499999                      N   142590              1  "
      ]
     },
     "execution_count": 167,
     "metadata": {},
     "output_type": "execute_result"
    }
   ],
   "source": [
    "# Import our dependencies\n",
    "from sklearn.model_selection import train_test_split\n",
    "from sklearn.preprocessing import StandardScaler\n",
    "import pandas as pd\n",
    "import tensorflow as tf\n",
    "import matplotlib as plt\n",
    "\n",
    "#  Import and read the charity_data.csv.\n",
    "application_df = pd.read_csv(\"Resources/charity_data.csv\")\n",
    "application_df.head()"
   ]
  },
  {
   "cell_type": "code",
   "execution_count": 132,
   "metadata": {},
   "outputs": [
    {
     "data": {
      "text/plain": [
       "(34299, 12)"
      ]
     },
     "execution_count": 132,
     "metadata": {},
     "output_type": "execute_result"
    }
   ],
   "source": [
    "application_df.shape"
   ]
  },
  {
   "cell_type": "code",
   "execution_count": 133,
   "metadata": {},
   "outputs": [
    {
     "data": {
      "text/plain": [
       "EIN                       34299\n",
       "NAME                      19568\n",
       "APPLICATION_TYPE             17\n",
       "AFFILIATION                   6\n",
       "CLASSIFICATION               71\n",
       "USE_CASE                      5\n",
       "ORGANIZATION                  4\n",
       "STATUS                        2\n",
       "INCOME_AMT                    9\n",
       "SPECIAL_CONSIDERATIONS        2\n",
       "ASK_AMT                    8747\n",
       "IS_SUCCESSFUL                 2\n",
       "dtype: int64"
      ]
     },
     "execution_count": 133,
     "metadata": {},
     "output_type": "execute_result"
    }
   ],
   "source": [
    "application_df.nunique()"
   ]
  },
  {
   "cell_type": "code",
   "execution_count": 134,
   "metadata": {},
   "outputs": [
    {
     "data": {
      "text/plain": [
       "(34299, 11)"
      ]
     },
     "execution_count": 134,
     "metadata": {},
     "output_type": "execute_result"
    }
   ],
   "source": [
    "# Drop the non-beneficial ID columns, 'EIN' and 'NAME'.\n",
    "application_df = application_df.drop(columns=['EIN'])\n",
    "application_df.shape"
   ]
  },
  {
   "cell_type": "code",
   "execution_count": 135,
   "metadata": {},
   "outputs": [
    {
     "data": {
      "text/plain": [
       "NAME                      19568\n",
       "APPLICATION_TYPE             17\n",
       "AFFILIATION                   6\n",
       "CLASSIFICATION               71\n",
       "USE_CASE                      5\n",
       "ORGANIZATION                  4\n",
       "STATUS                        2\n",
       "INCOME_AMT                    9\n",
       "SPECIAL_CONSIDERATIONS        2\n",
       "ASK_AMT                    8747\n",
       "IS_SUCCESSFUL                 2\n",
       "dtype: int64"
      ]
     },
     "execution_count": 135,
     "metadata": {},
     "output_type": "execute_result"
    }
   ],
   "source": [
    "# Determine the number of unique values in each column.\n",
    "application_df.nunique()"
   ]
  },
  {
   "cell_type": "code",
   "execution_count": 136,
   "metadata": {},
   "outputs": [
    {
     "data": {
      "text/plain": [
       "T3     27037\n",
       "T4      1542\n",
       "T6      1216\n",
       "T5      1173\n",
       "T19     1065\n",
       "T8       737\n",
       "T7       725\n",
       "T10      528\n",
       "T9       156\n",
       "T13       66\n",
       "T12       27\n",
       "T2        16\n",
       "T14        3\n",
       "T25        3\n",
       "T29        2\n",
       "T15        2\n",
       "T17        1\n",
       "Name: APPLICATION_TYPE, dtype: int64"
      ]
     },
     "execution_count": 136,
     "metadata": {},
     "output_type": "execute_result"
    }
   ],
   "source": [
    "# Look at APPLICATION_TYPE value counts for binning\n",
    "bin1 = application_df['APPLICATION_TYPE'].value_counts()\n",
    "bin1"
   ]
  },
  {
   "cell_type": "code",
   "execution_count": 137,
   "metadata": {},
   "outputs": [
    {
     "data": {
      "text/plain": [
       "T3       27037\n",
       "T4        1542\n",
       "T6        1216\n",
       "T5        1173\n",
       "T19       1065\n",
       "T8         737\n",
       "T7         725\n",
       "T10        528\n",
       "T9         156\n",
       "Other      120\n",
       "Name: APPLICATION_TYPE, dtype: int64"
      ]
     },
     "execution_count": 137,
     "metadata": {},
     "output_type": "execute_result"
    }
   ],
   "source": [
    "# Choose a cutoff value and create a list of application types to be replaced\n",
    "# use the variable name `application_types_to_replace`\n",
    "application_types_to_replace = list(bin1[bin1<100].index)\n",
    "\n",
    "\n",
    "# Replace in dataframe\n",
    "for app in application_types_to_replace:\n",
    "    application_df['APPLICATION_TYPE'] = application_df['APPLICATION_TYPE'].replace(app,\"Other\")\n",
    "\n",
    "# Check to make sure binning was successful\n",
    "application_df['APPLICATION_TYPE'].value_counts()"
   ]
  },
  {
   "cell_type": "code",
   "execution_count": 138,
   "metadata": {},
   "outputs": [
    {
     "data": {
      "text/plain": [
       "C1000    17326\n",
       "C2000     6074\n",
       "C1200     4837\n",
       "C3000     1918\n",
       "C2100     1883\n",
       "         ...  \n",
       "C1820        1\n",
       "C3700        1\n",
       "C2561        1\n",
       "C8210        1\n",
       "C2380        1\n",
       "Name: CLASSIFICATION, Length: 71, dtype: int64"
      ]
     },
     "execution_count": 138,
     "metadata": {},
     "output_type": "execute_result"
    }
   ],
   "source": [
    "# Look at CLASSIFICATION value counts for binning\n",
    "bin2 = application_df['CLASSIFICATION'].value_counts()\n",
    "bin2"
   ]
  },
  {
   "cell_type": "code",
   "execution_count": 139,
   "metadata": {},
   "outputs": [
    {
     "name": "stdout",
     "output_type": "stream",
     "text": [
      "(45,)\n",
      "=======================================================\n",
      "C1000    17326\n",
      "C2000     6074\n",
      "C1200     4837\n",
      "C3000     1918\n",
      "C2100     1883\n",
      "C7000      777\n",
      "C1700      287\n",
      "C4000      194\n",
      "C5000      116\n",
      "C1270      114\n",
      "C2700      104\n",
      "C2800       95\n",
      "C7100       75\n",
      "C1300       58\n",
      "C1280       50\n",
      "C1230       36\n",
      "C1400       34\n",
      "C7200       32\n",
      "C2300       32\n",
      "C1240       30\n",
      "C8000       20\n",
      "C7120       18\n",
      "C1500       16\n",
      "C1800       15\n",
      "C6000       15\n",
      "C1250       14\n",
      "C8200       11\n",
      "C1238       10\n",
      "C1278       10\n",
      "C1237        9\n",
      "C1235        9\n",
      "C7210        7\n",
      "C4100        6\n",
      "C1720        6\n",
      "C2400        6\n",
      "C1257        5\n",
      "C1600        5\n",
      "C2710        3\n",
      "C0           3\n",
      "C1260        3\n",
      "C1246        2\n",
      "C3200        2\n",
      "C1267        2\n",
      "C1256        2\n",
      "C1234        2\n",
      "Name: CLASSIFICATION, dtype: int64\n"
     ]
    }
   ],
   "source": [
    "# You may find it helpful to look at CLASSIFICATION value counts >1\n",
    "bin2_1 = bin2[bin2>1]\n",
    "print(bin2_1.shape)\n",
    "print('=======================================================')\n",
    "print(bin2_1)"
   ]
  },
  {
   "cell_type": "code",
   "execution_count": 140,
   "metadata": {},
   "outputs": [
    {
     "data": {
      "text/plain": [
       "C1000    17326\n",
       "C2000     6074\n",
       "C1200     4837\n",
       "C3000     1918\n",
       "C2100     1883\n",
       "C7000      777\n",
       "C1700      287\n",
       "C4000      194\n",
       "C5000      116\n",
       "C1270      114\n",
       "C2700      104\n",
       "Other       98\n",
       "C2800       95\n",
       "C7100       75\n",
       "C1300       58\n",
       "C1280       50\n",
       "C1230       36\n",
       "C1400       34\n",
       "C7200       32\n",
       "C2300       32\n",
       "C1240       30\n",
       "C8000       20\n",
       "C7120       18\n",
       "C1500       16\n",
       "C1800       15\n",
       "C6000       15\n",
       "C1250       14\n",
       "C8200       11\n",
       "C1278       10\n",
       "C1238       10\n",
       "Name: CLASSIFICATION, dtype: int64"
      ]
     },
     "execution_count": 140,
     "metadata": {},
     "output_type": "execute_result"
    }
   ],
   "source": [
    "# Choose a cutoff value and create a list of classifications to be replaced\n",
    "# use the variable name `classifications_to_replace`\n",
    "classifications_to_replace = list(bin2[bin2<10].index)\n",
    "\n",
    "# Replace in dataframe\n",
    "for cls in classifications_to_replace:\n",
    "    application_df['CLASSIFICATION'] = application_df['CLASSIFICATION'].replace(cls,\"Other\")\n",
    "    \n",
    "# Check to make sure binning was successful\n",
    "application_df['CLASSIFICATION'].value_counts()"
   ]
  },
  {
   "cell_type": "code",
   "execution_count": 141,
   "metadata": {},
   "outputs": [],
   "source": [
    "bin3 = application_df.NAME.value_counts()"
   ]
  },
  {
   "cell_type": "code",
   "execution_count": 142,
   "metadata": {},
   "outputs": [],
   "source": [
    "names_to_replace = list(bin3[bin3<40].index)"
   ]
  },
  {
   "cell_type": "code",
   "execution_count": 143,
   "metadata": {},
   "outputs": [
    {
     "data": {
      "text/plain": [
       "19504"
      ]
     },
     "execution_count": 143,
     "metadata": {},
     "output_type": "execute_result"
    }
   ],
   "source": [
    "len(names_to_replace)"
   ]
  },
  {
   "cell_type": "code",
   "execution_count": 144,
   "metadata": {},
   "outputs": [
    {
     "data": {
      "text/plain": [
       "Other                                                                    23982\n",
       "PARENT BOOSTER USA INC                                                    1260\n",
       "TOPS CLUB INC                                                              765\n",
       "UNITED STATES BOWLING CONGRESS INC                                         700\n",
       "WASHINGTON STATE UNIVERSITY                                                492\n",
       "                                                                         ...  \n",
       "ALABAMA FEDERATION OF WOMENS CLUBS                                          42\n",
       "UNITED MINE WORKERS OF AMERICA INTERNATIONAL                                41\n",
       "VETERANS OF FOREIGN WARS OF THE U S AUXILIARY DEPARTMENT OF LOUISIANA       41\n",
       "VETERANS OF FOREIGN WARS OF THE UNITED STATES AUX DEPT OF COLORADO          41\n",
       "MODERN QUILT GUILD INC                                                      40\n",
       "Name: NAME, Length: 65, dtype: int64"
      ]
     },
     "execution_count": 144,
     "metadata": {},
     "output_type": "execute_result"
    }
   ],
   "source": [
    "\n",
    "# Replace in dataframe\n",
    "for cls in names_to_replace:\n",
    "    application_df['NAME'] = application_df['NAME'].replace(cls,\"Other\")\n",
    "    \n",
    "# Check to make sure binning was successful\n",
    "application_df['NAME'].value_counts()"
   ]
  },
  {
   "cell_type": "code",
   "execution_count": 145,
   "metadata": {},
   "outputs": [
    {
     "data": {
      "text/html": [
       "<div>\n",
       "<style scoped>\n",
       "    .dataframe tbody tr th:only-of-type {\n",
       "        vertical-align: middle;\n",
       "    }\n",
       "\n",
       "    .dataframe tbody tr th {\n",
       "        vertical-align: top;\n",
       "    }\n",
       "\n",
       "    .dataframe thead th {\n",
       "        text-align: right;\n",
       "    }\n",
       "</style>\n",
       "<table border=\"1\" class=\"dataframe\">\n",
       "  <thead>\n",
       "    <tr style=\"text-align: right;\">\n",
       "      <th></th>\n",
       "      <th>STATUS</th>\n",
       "      <th>ASK_AMT</th>\n",
       "      <th>IS_SUCCESSFUL</th>\n",
       "      <th>NAME_AIR FORCE ASSOCIATION</th>\n",
       "      <th>NAME_ALABAMA FEDERATION OF WOMENS CLUBS</th>\n",
       "      <th>NAME_ALPHA PHI SIGMA</th>\n",
       "      <th>NAME_AMATEUR ATHLETIC UNION OF THE UNITED STATES</th>\n",
       "      <th>NAME_AMATEUR ATHLETIC UNION OF THE UNITED STATES INC</th>\n",
       "      <th>NAME_AMERICAN ASSOCIATION OF UNIVERSITY WOMEN</th>\n",
       "      <th>NAME_AMERICAN ASSOCIATION OF UNIVERSITY WOMEN INC</th>\n",
       "      <th>...</th>\n",
       "      <th>INCOME_AMT_1-9999</th>\n",
       "      <th>INCOME_AMT_10000-24999</th>\n",
       "      <th>INCOME_AMT_100000-499999</th>\n",
       "      <th>INCOME_AMT_10M-50M</th>\n",
       "      <th>INCOME_AMT_1M-5M</th>\n",
       "      <th>INCOME_AMT_25000-99999</th>\n",
       "      <th>INCOME_AMT_50M+</th>\n",
       "      <th>INCOME_AMT_5M-10M</th>\n",
       "      <th>SPECIAL_CONSIDERATIONS_N</th>\n",
       "      <th>SPECIAL_CONSIDERATIONS_Y</th>\n",
       "    </tr>\n",
       "  </thead>\n",
       "  <tbody>\n",
       "    <tr>\n",
       "      <th>0</th>\n",
       "      <td>1</td>\n",
       "      <td>5000</td>\n",
       "      <td>1</td>\n",
       "      <td>0.0</td>\n",
       "      <td>0.0</td>\n",
       "      <td>0.0</td>\n",
       "      <td>0.0</td>\n",
       "      <td>0.0</td>\n",
       "      <td>0.0</td>\n",
       "      <td>0.0</td>\n",
       "      <td>...</td>\n",
       "      <td>0.0</td>\n",
       "      <td>0.0</td>\n",
       "      <td>0.0</td>\n",
       "      <td>0.0</td>\n",
       "      <td>0.0</td>\n",
       "      <td>0.0</td>\n",
       "      <td>0.0</td>\n",
       "      <td>0.0</td>\n",
       "      <td>1.0</td>\n",
       "      <td>0.0</td>\n",
       "    </tr>\n",
       "    <tr>\n",
       "      <th>1</th>\n",
       "      <td>1</td>\n",
       "      <td>108590</td>\n",
       "      <td>1</td>\n",
       "      <td>0.0</td>\n",
       "      <td>0.0</td>\n",
       "      <td>0.0</td>\n",
       "      <td>0.0</td>\n",
       "      <td>0.0</td>\n",
       "      <td>0.0</td>\n",
       "      <td>0.0</td>\n",
       "      <td>...</td>\n",
       "      <td>1.0</td>\n",
       "      <td>0.0</td>\n",
       "      <td>0.0</td>\n",
       "      <td>0.0</td>\n",
       "      <td>0.0</td>\n",
       "      <td>0.0</td>\n",
       "      <td>0.0</td>\n",
       "      <td>0.0</td>\n",
       "      <td>1.0</td>\n",
       "      <td>0.0</td>\n",
       "    </tr>\n",
       "    <tr>\n",
       "      <th>2</th>\n",
       "      <td>1</td>\n",
       "      <td>5000</td>\n",
       "      <td>0</td>\n",
       "      <td>0.0</td>\n",
       "      <td>0.0</td>\n",
       "      <td>0.0</td>\n",
       "      <td>0.0</td>\n",
       "      <td>0.0</td>\n",
       "      <td>0.0</td>\n",
       "      <td>0.0</td>\n",
       "      <td>...</td>\n",
       "      <td>0.0</td>\n",
       "      <td>0.0</td>\n",
       "      <td>0.0</td>\n",
       "      <td>0.0</td>\n",
       "      <td>0.0</td>\n",
       "      <td>0.0</td>\n",
       "      <td>0.0</td>\n",
       "      <td>0.0</td>\n",
       "      <td>1.0</td>\n",
       "      <td>0.0</td>\n",
       "    </tr>\n",
       "    <tr>\n",
       "      <th>3</th>\n",
       "      <td>1</td>\n",
       "      <td>6692</td>\n",
       "      <td>1</td>\n",
       "      <td>0.0</td>\n",
       "      <td>0.0</td>\n",
       "      <td>0.0</td>\n",
       "      <td>0.0</td>\n",
       "      <td>0.0</td>\n",
       "      <td>0.0</td>\n",
       "      <td>0.0</td>\n",
       "      <td>...</td>\n",
       "      <td>0.0</td>\n",
       "      <td>1.0</td>\n",
       "      <td>0.0</td>\n",
       "      <td>0.0</td>\n",
       "      <td>0.0</td>\n",
       "      <td>0.0</td>\n",
       "      <td>0.0</td>\n",
       "      <td>0.0</td>\n",
       "      <td>1.0</td>\n",
       "      <td>0.0</td>\n",
       "    </tr>\n",
       "    <tr>\n",
       "      <th>4</th>\n",
       "      <td>1</td>\n",
       "      <td>142590</td>\n",
       "      <td>1</td>\n",
       "      <td>0.0</td>\n",
       "      <td>0.0</td>\n",
       "      <td>0.0</td>\n",
       "      <td>0.0</td>\n",
       "      <td>0.0</td>\n",
       "      <td>0.0</td>\n",
       "      <td>0.0</td>\n",
       "      <td>...</td>\n",
       "      <td>0.0</td>\n",
       "      <td>0.0</td>\n",
       "      <td>1.0</td>\n",
       "      <td>0.0</td>\n",
       "      <td>0.0</td>\n",
       "      <td>0.0</td>\n",
       "      <td>0.0</td>\n",
       "      <td>0.0</td>\n",
       "      <td>1.0</td>\n",
       "      <td>0.0</td>\n",
       "    </tr>\n",
       "  </tbody>\n",
       "</table>\n",
       "<p>5 rows × 134 columns</p>\n",
       "</div>"
      ],
      "text/plain": [
       "   STATUS  ASK_AMT  IS_SUCCESSFUL  NAME_AIR FORCE ASSOCIATION  \\\n",
       "0       1     5000              1                         0.0   \n",
       "1       1   108590              1                         0.0   \n",
       "2       1     5000              0                         0.0   \n",
       "3       1     6692              1                         0.0   \n",
       "4       1   142590              1                         0.0   \n",
       "\n",
       "   NAME_ALABAMA FEDERATION OF WOMENS CLUBS  NAME_ALPHA PHI SIGMA  \\\n",
       "0                                      0.0                   0.0   \n",
       "1                                      0.0                   0.0   \n",
       "2                                      0.0                   0.0   \n",
       "3                                      0.0                   0.0   \n",
       "4                                      0.0                   0.0   \n",
       "\n",
       "   NAME_AMATEUR ATHLETIC UNION OF THE UNITED STATES  \\\n",
       "0                                               0.0   \n",
       "1                                               0.0   \n",
       "2                                               0.0   \n",
       "3                                               0.0   \n",
       "4                                               0.0   \n",
       "\n",
       "   NAME_AMATEUR ATHLETIC UNION OF THE UNITED STATES INC  \\\n",
       "0                                                0.0      \n",
       "1                                                0.0      \n",
       "2                                                0.0      \n",
       "3                                                0.0      \n",
       "4                                                0.0      \n",
       "\n",
       "   NAME_AMERICAN ASSOCIATION OF UNIVERSITY WOMEN  \\\n",
       "0                                            0.0   \n",
       "1                                            0.0   \n",
       "2                                            0.0   \n",
       "3                                            0.0   \n",
       "4                                            0.0   \n",
       "\n",
       "   NAME_AMERICAN ASSOCIATION OF UNIVERSITY WOMEN INC  ...  INCOME_AMT_1-9999  \\\n",
       "0                                                0.0  ...                0.0   \n",
       "1                                                0.0  ...                1.0   \n",
       "2                                                0.0  ...                0.0   \n",
       "3                                                0.0  ...                0.0   \n",
       "4                                                0.0  ...                0.0   \n",
       "\n",
       "   INCOME_AMT_10000-24999  INCOME_AMT_100000-499999  INCOME_AMT_10M-50M  \\\n",
       "0                     0.0                       0.0                 0.0   \n",
       "1                     0.0                       0.0                 0.0   \n",
       "2                     0.0                       0.0                 0.0   \n",
       "3                     1.0                       0.0                 0.0   \n",
       "4                     0.0                       1.0                 0.0   \n",
       "\n",
       "   INCOME_AMT_1M-5M  INCOME_AMT_25000-99999  INCOME_AMT_50M+  \\\n",
       "0               0.0                     0.0              0.0   \n",
       "1               0.0                     0.0              0.0   \n",
       "2               0.0                     0.0              0.0   \n",
       "3               0.0                     0.0              0.0   \n",
       "4               0.0                     0.0              0.0   \n",
       "\n",
       "   INCOME_AMT_5M-10M  SPECIAL_CONSIDERATIONS_N  SPECIAL_CONSIDERATIONS_Y  \n",
       "0                0.0                       1.0                       0.0  \n",
       "1                0.0                       1.0                       0.0  \n",
       "2                0.0                       1.0                       0.0  \n",
       "3                0.0                       1.0                       0.0  \n",
       "4                0.0                       1.0                       0.0  \n",
       "\n",
       "[5 rows x 134 columns]"
      ]
     },
     "execution_count": 145,
     "metadata": {},
     "output_type": "execute_result"
    }
   ],
   "source": [
    "# Convert categorical data to numeric with `pd.get_dummies`\n",
    "application_df = pd.get_dummies(application_df,dtype=float)\n",
    "application_df.head()"
   ]
  },
  {
   "cell_type": "code",
   "execution_count": 146,
   "metadata": {},
   "outputs": [],
   "source": [
    "# Split our preprocessed data into our features and target arrays\n",
    "y = application_df['IS_SUCCESSFUL'].values\n",
    "\n",
    "# Drop the \"Is Successful\" column from X\n",
    "X = application_df.drop('IS_SUCCESSFUL', axis=1).values\n",
    "\n",
    "# Split the preprocessed data into a training and testing dataset\n",
    "X_train, X_test, y_train, y_test = train_test_split(X,y,random_state = 42)"
   ]
  },
  {
   "cell_type": "code",
   "execution_count": 147,
   "metadata": {},
   "outputs": [],
   "source": [
    "# Create a StandardScaler instances\n",
    "scaler = StandardScaler()\n",
    "\n",
    "# Fit the StandardScaler\n",
    "X_scaler = scaler.fit(X_train)\n",
    "\n",
    "# Scale the data\n",
    "X_train_scaled = X_scaler.transform(X_train)\n",
    "X_test_scaled = X_scaler.transform(X_test)"
   ]
  },
  {
   "cell_type": "markdown",
   "metadata": {},
   "source": [
    "## Compile, Train and Evaluate the Model"
   ]
  },
  {
   "cell_type": "code",
   "execution_count": 148,
   "metadata": {},
   "outputs": [
    {
     "name": "stdout",
     "output_type": "stream",
     "text": [
      "Model: \"sequential_3\"\n",
      "_________________________________________________________________\n",
      "Layer (type)                 Output Shape              Param #   \n",
      "=================================================================\n",
      "dense_12 (Dense)             (None, 30)                4020      \n",
      "_________________________________________________________________\n",
      "dense_13 (Dense)             (None, 30)                930       \n",
      "_________________________________________________________________\n",
      "dense_14 (Dense)             (None, 30)                930       \n",
      "_________________________________________________________________\n",
      "dense_15 (Dense)             (None, 1)                 31        \n",
      "=================================================================\n",
      "Total params: 5,911\n",
      "Trainable params: 5,911\n",
      "Non-trainable params: 0\n",
      "_________________________________________________________________\n"
     ]
    }
   ],
   "source": [
    "# Define the model - deep neural net, i.e., the number of input features and hidden nodes for each layer.\n",
    "number_input_features = len( X_train_scaled[0])\n",
    "hidden_nodes_layer1=30\n",
    "hidden_nodes_layer2=30\n",
    "hidden_nodes_layer3=30\n",
    "\n",
    "nn = tf.keras.models.Sequential()\n",
    "\n",
    "# First hidden layer\n",
    "nn.add(\n",
    "    tf.keras.layers.Dense(units=hidden_nodes_layer1, input_dim=number_input_features, activation=\"relu\")\n",
    ")\n",
    "\n",
    "# Second hidden layer\n",
    "nn.add(tf.keras.layers.Dense(units=hidden_nodes_layer2, activation=\"relu\"))\n",
    "\n",
    "# Third hidden layer\n",
    "nn.add(tf.keras.layers.Dense(units=hidden_nodes_layer3, activation=\"relu\"))\n",
    "\n",
    "# Output layer\n",
    "nn.add(tf.keras.layers.Dense(units=1, activation=\"sigmoid\"))\n",
    "\n",
    "# Check the structure of the model\n",
    "nn.summary()"
   ]
  },
  {
   "cell_type": "code",
   "execution_count": 149,
   "metadata": {},
   "outputs": [],
   "source": [
    "# Compile the model\n",
    "nn.compile(loss=\"binary_crossentropy\", optimizer=\"adam\", metrics=[\"accuracy\"])"
   ]
  },
  {
   "cell_type": "code",
   "execution_count": 150,
   "metadata": {},
   "outputs": [
    {
     "name": "stdout",
     "output_type": "stream",
     "text": [
      "WARNING:tensorflow:`period` argument is deprecated. Please use `save_freq` to specify the frequency in number of samples seen.\n"
     ]
    }
   ],
   "source": [
    "import os\n",
    "from tensorflow.keras.callbacks import ModelCheckpoint\n",
    "\n",
    "os.makedirs(\"checkpointsV4/\", exist_ok=True)\n",
    "checkpoint_path = \"checkpointsV4/weights.{epoch:02d}.hdf5\"\n",
    "\n",
    "cp_callback = ModelCheckpoint(filepath=checkpoint_path, save_weights_only = True, period = 5)\n"
   ]
  },
  {
   "cell_type": "code",
   "execution_count": 151,
   "metadata": {},
   "outputs": [
    {
     "name": "stdout",
     "output_type": "stream",
     "text": [
      "Epoch 1/100\n",
      "25724/25724 [==============================] - 1s 46us/sample - loss: 0.5075 - acc: 0.7468\n",
      "Epoch 2/100\n",
      "25724/25724 [==============================] - 1s 42us/sample - loss: 0.4742 - acc: 0.76570s - loss:\n",
      "Epoch 3/100\n",
      "25724/25724 [==============================] - 1s 41us/sample - loss: 0.4699 - acc: 0.7688\n",
      "Epoch 4/100\n",
      "25724/25724 [==============================] - 1s 41us/sample - loss: 0.4690 - acc: 0.76830s - loss: 0.4674 \n",
      "Epoch 5/100\n",
      "25724/25724 [==============================] - 1s 46us/sample - loss: 0.4667 - acc: 0.7700\n",
      "Epoch 6/100\n",
      "25724/25724 [==============================] - 1s 41us/sample - loss: 0.4655 - acc: 0.77060s - loss: 0.4650 - acc:  - ETA: 0s - loss: 0.4658 - acc: \n",
      "Epoch 7/100\n",
      "25724/25724 [==============================] - 1s 47us/sample - loss: 0.4641 - acc: 0.77160s - loss: 0.4647 - acc: 0.77\n",
      "Epoch 8/100\n",
      "25724/25724 [==============================] - 1s 42us/sample - loss: 0.4631 - acc: 0.77140s - loss: 0\n",
      "Epoch 9/100\n",
      "25724/25724 [==============================] - 1s 43us/sample - loss: 0.4619 - acc: 0.7728\n",
      "Epoch 10/100\n",
      "25724/25724 [==============================] - 1s 48us/sample - loss: 0.4620 - acc: 0.7728\n",
      "Epoch 11/100\n",
      "25724/25724 [==============================] - 1s 43us/sample - loss: 0.4607 - acc: 0.7731\n",
      "Epoch 12/100\n",
      "25724/25724 [==============================] - 1s 47us/sample - loss: 0.4605 - acc: 0.77360s - loss: 0.4578 \n",
      "Epoch 13/100\n",
      "25724/25724 [==============================] - 1s 43us/sample - loss: 0.4599 - acc: 0.7739\n",
      "Epoch 14/100\n",
      "25724/25724 [==============================] - 1s 43us/sample - loss: 0.4592 - acc: 0.77490s - loss: 0.4601 - acc:  - ETA: 0s - loss: 0.4589 - acc: 0\n",
      "Epoch 15/100\n",
      "25724/25724 [==============================] - 1s 43us/sample - loss: 0.4587 - acc: 0.7739\n",
      "Epoch 16/100\n",
      "25724/25724 [==============================] - 1s 45us/sample - loss: 0.4585 - acc: 0.7741\n",
      "Epoch 17/100\n",
      "25724/25724 [==============================] - 1s 46us/sample - loss: 0.4580 - acc: 0.7747\n",
      "Epoch 18/100\n",
      "25724/25724 [==============================] - 1s 43us/sample - loss: 0.4576 - acc: 0.77510s - loss: 0.44\n",
      "Epoch 19/100\n",
      "25724/25724 [==============================] - 1s 43us/sample - loss: 0.4570 - acc: 0.7760\n",
      "Epoch 20/100\n",
      "25724/25724 [==============================] - 1s 43us/sample - loss: 0.4565 - acc: 0.77690s - loss: 0.45\n",
      "Epoch 21/100\n",
      "25724/25724 [==============================] - 1s 45us/sample - loss: 0.4565 - acc: 0.77620s - loss: 0.45\n",
      "Epoch 22/100\n",
      "25724/25724 [==============================] - 1s 47us/sample - loss: 0.4555 - acc: 0.7760\n",
      "Epoch 23/100\n",
      "25724/25724 [==============================] - 1s 44us/sample - loss: 0.4558 - acc: 0.7763\n",
      "Epoch 24/100\n",
      "25724/25724 [==============================] - 1s 43us/sample - loss: 0.4553 - acc: 0.7768\n",
      "Epoch 25/100\n",
      "25724/25724 [==============================] - 1s 43us/sample - loss: 0.4550 - acc: 0.77810s - loss: 0.4541 - ac\n",
      "Epoch 26/100\n",
      "25724/25724 [==============================] - 1s 45us/sample - loss: 0.4544 - acc: 0.7766\n",
      "Epoch 27/100\n",
      "25724/25724 [==============================] - 1s 47us/sample - loss: 0.4548 - acc: 0.7774\n",
      "Epoch 28/100\n",
      "25724/25724 [==============================] - 1s 43us/sample - loss: 0.4539 - acc: 0.7773\n",
      "Epoch 29/100\n",
      "25724/25724 [==============================] - 1s 44us/sample - loss: 0.4544 - acc: 0.77790s - loss: 0.45\n",
      "Epoch 30/100\n",
      "25724/25724 [==============================] - 1s 45us/sample - loss: 0.4538 - acc: 0.77790s - loss: 0.4535 \n",
      "Epoch 31/100\n",
      "25724/25724 [==============================] - 1s 43us/sample - loss: 0.4535 - acc: 0.7774\n",
      "Epoch 32/100\n",
      "25724/25724 [==============================] - 1s 48us/sample - loss: 0.4528 - acc: 0.77780s - loss: 0.4548 - acc: 0.7 - ETA: 0s - loss: 0.4543 - acc\n",
      "Epoch 33/100\n",
      "25724/25724 [==============================] - 1s 43us/sample - loss: 0.4531 - acc: 0.7783\n",
      "Epoch 34/100\n",
      "25724/25724 [==============================] - 1s 43us/sample - loss: 0.4528 - acc: 0.7790\n",
      "Epoch 35/100\n",
      "25724/25724 [==============================] - 1s 44us/sample - loss: 0.4526 - acc: 0.7788\n",
      "Epoch 36/100\n",
      "25724/25724 [==============================] - 1s 43us/sample - loss: 0.4522 - acc: 0.77840s - loss: 0.4476 - acc:  - ETA: 0s - loss: 0.4502 - acc: 0\n",
      "Epoch 37/100\n",
      "25724/25724 [==============================] - 1s 49us/sample - loss: 0.4523 - acc: 0.7770\n",
      "Epoch 38/100\n",
      "25724/25724 [==============================] - 1s 43us/sample - loss: 0.4520 - acc: 0.77930s - loss: 0.4517 - acc: 0.\n",
      "Epoch 39/100\n",
      "25724/25724 [==============================] - 1s 43us/sample - loss: 0.4517 - acc: 0.7791\n",
      "Epoch 40/100\n",
      "25724/25724 [==============================] - 1s 43us/sample - loss: 0.4514 - acc: 0.7802\n",
      "Epoch 41/100\n",
      "25724/25724 [==============================] - 1s 43us/sample - loss: 0.4515 - acc: 0.7784\n",
      "Epoch 42/100\n",
      "25724/25724 [==============================] - 1s 54us/sample - loss: 0.4514 - acc: 0.7796\n",
      "Epoch 43/100\n",
      "25724/25724 [==============================] - 1s 43us/sample - loss: 0.4510 - acc: 0.77891s - loss: 0.4540 - acc: 0 - ETA: 0s - loss: 0.447\n",
      "Epoch 44/100\n",
      "25724/25724 [==============================] - 1s 43us/sample - loss: 0.4509 - acc: 0.7799\n",
      "Epoch 45/100\n",
      "25724/25724 [==============================] - 1s 46us/sample - loss: 0.4510 - acc: 0.7794\n",
      "Epoch 46/100\n",
      "25724/25724 [==============================] - 1s 44us/sample - loss: 0.4505 - acc: 0.77970s - loss: 0.4500 - a\n",
      "Epoch 47/100\n",
      "25724/25724 [==============================] - 1s 48us/sample - loss: 0.4505 - acc: 0.7806\n",
      "Epoch 48/100\n",
      "25724/25724 [==============================] - 1s 43us/sample - loss: 0.4504 - acc: 0.77910s - loss: 0\n",
      "Epoch 49/100\n",
      "25724/25724 [==============================] - 1s 43us/sample - loss: 0.4501 - acc: 0.7800\n",
      "Epoch 50/100\n",
      "25724/25724 [==============================] - 1s 46us/sample - loss: 0.4497 - acc: 0.77990s - loss: 0.4547 - acc: 0 - ETA: 0s - loss: 0.4470 - \n",
      "Epoch 51/100\n",
      "25724/25724 [==============================] - 1s 44us/sample - loss: 0.4498 - acc: 0.78010s - loss: 0.4498 - acc: \n",
      "Epoch 52/100\n",
      "25724/25724 [==============================] - 1s 50us/sample - loss: 0.4499 - acc: 0.7803\n",
      "Epoch 53/100\n",
      "25724/25724 [==============================] - 1s 43us/sample - loss: 0.4498 - acc: 0.7805\n",
      "Epoch 54/100\n",
      "25724/25724 [==============================] - 1s 43us/sample - loss: 0.4492 - acc: 0.7807\n",
      "Epoch 55/100\n",
      "25724/25724 [==============================] - 1s 51us/sample - loss: 0.4492 - acc: 0.7803\n",
      "Epoch 56/100\n",
      "25724/25724 [==============================] - 1s 49us/sample - loss: 0.4494 - acc: 0.7795\n",
      "Epoch 57/100\n",
      "25724/25724 [==============================] - 1s 49us/sample - loss: 0.4491 - acc: 0.7811\n",
      "Epoch 58/100\n",
      "25724/25724 [==============================] - 1s 47us/sample - loss: 0.4490 - acc: 0.7809\n",
      "Epoch 59/100\n",
      "25724/25724 [==============================] - 1s 44us/sample - loss: 0.4490 - acc: 0.7798\n",
      "Epoch 60/100\n",
      "25724/25724 [==============================] - 1s 48us/sample - loss: 0.4487 - acc: 0.7811\n",
      "Epoch 61/100\n",
      "25724/25724 [==============================] - 1s 50us/sample - loss: 0.4491 - acc: 0.7807\n",
      "Epoch 62/100\n",
      "25724/25724 [==============================] - 1s 48us/sample - loss: 0.4487 - acc: 0.7803\n",
      "Epoch 63/100\n",
      "25724/25724 [==============================] - 1s 44us/sample - loss: 0.4485 - acc: 0.7802\n",
      "Epoch 64/100\n",
      "25724/25724 [==============================] - 1s 46us/sample - loss: 0.4484 - acc: 0.78090s - loss: 0.4479 - ac\n",
      "Epoch 65/100\n",
      "25724/25724 [==============================] - 1s 44us/sample - loss: 0.4485 - acc: 0.7817\n",
      "Epoch 66/100\n",
      "25724/25724 [==============================] - 1s 44us/sample - loss: 0.4483 - acc: 0.78020s - loss: 0.\n",
      "Epoch 67/100\n",
      "25724/25724 [==============================] - 1s 48us/sample - loss: 0.4480 - acc: 0.7804\n",
      "Epoch 68/100\n",
      "25724/25724 [==============================] - 1s 43us/sample - loss: 0.4478 - acc: 0.78080s - loss: 0.448\n",
      "Epoch 69/100\n",
      "25724/25724 [==============================] - 1s 43us/sample - loss: 0.4477 - acc: 0.78140s - loss: 0.4506 \n",
      "Epoch 70/100\n",
      "25724/25724 [==============================] - 1s 46us/sample - loss: 0.4480 - acc: 0.7813\n",
      "Epoch 71/100\n",
      "25724/25724 [==============================] - 1s 44us/sample - loss: 0.4479 - acc: 0.7811\n",
      "Epoch 72/100\n",
      "25724/25724 [==============================] - 1s 48us/sample - loss: 0.4475 - acc: 0.78220s - loss: 0.4483 - acc:\n",
      "Epoch 73/100\n",
      "25724/25724 [==============================] - 1s 43us/sample - loss: 0.4474 - acc: 0.78150s - loss: 0.4476 - acc: \n",
      "Epoch 74/100\n",
      "25724/25724 [==============================] - 1s 44us/sample - loss: 0.4472 - acc: 0.7809\n",
      "Epoch 75/100\n",
      "25724/25724 [==============================] - ETA: 0s - loss: 0.4483 - acc: 0.781 - 1s 44us/sample - loss: 0.4479 - acc: 0.7819\n",
      "Epoch 76/100\n",
      "25724/25724 [==============================] - 1s 53us/sample - loss: 0.4474 - acc: 0.7813\n",
      "Epoch 77/100\n",
      "25724/25724 [==============================] - 1s 45us/sample - loss: 0.4470 - acc: 0.7813\n",
      "Epoch 78/100\n",
      "25724/25724 [==============================] - 1s 43us/sample - loss: 0.4466 - acc: 0.78140s - loss: 0.4468 - acc: 0.781\n",
      "Epoch 79/100\n",
      "25724/25724 [==============================] - 1s 45us/sample - loss: 0.4469 - acc: 0.7810\n",
      "Epoch 80/100\n",
      "25724/25724 [==============================] - 1s 44us/sample - loss: 0.4469 - acc: 0.78070s - loss: 0.4430 - acc:\n",
      "Epoch 81/100\n",
      "25724/25724 [==============================] - 1s 47us/sample - loss: 0.4468 - acc: 0.7816\n",
      "Epoch 82/100\n",
      "25724/25724 [==============================] - 1s 47us/sample - loss: 0.4468 - acc: 0.78160s - loss: 0.4430 - acc: 0.7 - ETA: 0s - loss: 0.4454 - ac\n",
      "Epoch 83/100\n",
      "25724/25724 [==============================] - 1s 43us/sample - loss: 0.4466 - acc: 0.7809\n",
      "Epoch 84/100\n",
      "25724/25724 [==============================] - 1s 43us/sample - loss: 0.4465 - acc: 0.78091s - loss: \n",
      "Epoch 85/100\n",
      "25724/25724 [==============================] - 1s 44us/sample - loss: 0.4464 - acc: 0.78290s - loss: 0.4465 - acc: 0.783\n",
      "Epoch 86/100\n",
      "25724/25724 [==============================] - 1s 45us/sample - loss: 0.4464 - acc: 0.7820\n",
      "Epoch 87/100\n",
      "25724/25724 [==============================] - 1s 49us/sample - loss: 0.4464 - acc: 0.7805\n",
      "Epoch 88/100\n",
      "25724/25724 [==============================] - 1s 44us/sample - loss: 0.4461 - acc: 0.7807\n",
      "Epoch 89/100\n",
      "25724/25724 [==============================] - 1s 43us/sample - loss: 0.4468 - acc: 0.7813\n",
      "Epoch 90/100\n",
      "25724/25724 [==============================] - 1s 44us/sample - loss: 0.4462 - acc: 0.78130s - loss: 0.4454 - acc: 0.\n",
      "Epoch 91/100\n",
      "25724/25724 [==============================] - 1s 44us/sample - loss: 0.4462 - acc: 0.7812\n",
      "Epoch 92/100\n",
      "25724/25724 [==============================] - 1s 49us/sample - loss: 0.4460 - acc: 0.7813\n",
      "Epoch 93/100\n",
      "25724/25724 [==============================] - 1s 44us/sample - loss: 0.4462 - acc: 0.7818\n",
      "Epoch 94/100\n",
      "25724/25724 [==============================] - 1s 44us/sample - loss: 0.4458 - acc: 0.7820\n",
      "Epoch 95/100\n",
      "25724/25724 [==============================] - 1s 44us/sample - loss: 0.4460 - acc: 0.7810\n",
      "Epoch 96/100\n",
      "25724/25724 [==============================] - 1s 44us/sample - loss: 0.4460 - acc: 0.7823\n",
      "Epoch 97/100\n",
      "25724/25724 [==============================] - 1s 49us/sample - loss: 0.4462 - acc: 0.7826\n",
      "Epoch 98/100\n",
      "25724/25724 [==============================] - 1s 43us/sample - loss: 0.4457 - acc: 0.7811\n",
      "Epoch 99/100\n",
      "25724/25724 [==============================] - 1s 43us/sample - loss: 0.4457 - acc: 0.7820\n",
      "Epoch 100/100\n",
      "25724/25724 [==============================] - ETA: 0s - loss: 0.4458 - acc: 0.7824- ETA: 0s - loss: 0.4447 - acc: - 1s 44us/sample - loss: 0.4456 - acc: 0.7821\n"
     ]
    }
   ],
   "source": [
    "# Train the model\n",
    "fit_model = nn.fit(X_train_scaled,y_train,epochs=100, callbacks=[cp_callback])"
   ]
  },
  {
   "cell_type": "code",
   "execution_count": 166,
   "metadata": {},
   "outputs": [
    {
     "data": {
      "image/png": "[encoded data removed]",
      "text/plain": [
       "<Figure size 432x288 with 1 Axes>"
      ]
     },
     "metadata": {
      "needs_background": "light"
     },
     "output_type": "display_data"
    },
    {
     "data": {
      "image/png": "[encoded data removed]",
      "text/plain": [
       "<Figure size 432x288 with 1 Axes>"
      ]
     },
     "metadata": {
      "needs_background": "light"
     },
     "output_type": "display_data"
    }
   ],
   "source": [
    "# Create a DataFrame containing training history\n",
    "train_results_df = pd.DataFrame(fit_model.history)\n",
    "\n",
    "# Increase the index by 1 to match the number of epochs\n",
    "train_results_df.index += 1\n",
    "\n",
    "# Plot the loss\n",
    "V4_loss = train_results_df.plot(y=\"loss\", color='darkred')\n",
    "plt.savefig('Plots/V4_loss.png')\n",
    "\n",
    "V4_Acc = train_results_df.plot(y=\"acc\", color='green')\n",
    "plt.savefig('Plots/V4_acc.png')"
   ]
  },
  {
   "cell_type": "code",
   "execution_count": 161,
   "metadata": {},
   "outputs": [
    {
     "name": "stdout",
     "output_type": "stream",
     "text": [
      "8575/8575 - 0s - loss: 0.4918 - acc: 0.7636\n",
      "Loss: 0.4917825666356712, Accuracy: 0.7636151313781738\n"
     ]
    }
   ],
   "source": [
    "# Evaluate the model using the test data\n",
    "model_loss, model_accuracy = nn.evaluate(X_test_scaled,y_test,verbose=2)\n",
    "print(f\"Loss: {model_loss}, Accuracy: {model_accuracy}\")"
   ]
  },
  {
   "cell_type": "code",
   "execution_count": 162,
   "metadata": {},
   "outputs": [],
   "source": [
    "# # Export our model to HDF5 file\n",
    "nn.save('Output/Model_V4.h5')"
   ]
  }
 ],
 "metadata": {
  "kernelspec": {
   "display_name": "Python 3.7.7 ('PythonData')",
   "language": "python",
   "name": "python3"
  },
  "language_info": {
   "codemirror_mode": {
    "name": "ipython",
    "version": 3
   },
   "file_extension": ".py",
   "mimetype": "text/x-python",
   "name": "python",
   "nbconvert_exporter": "python",
   "pygments_lexer": "ipython3",
   "version": "3.7.7"
  },
  "vscode": {
   "interpreter": {
    "hash": "fc0bb293cbca8218ec797ab9fc01fcc16781a8e859e5b341e3a25b2353295d62"
   }
  }
 },
 "nbformat": 4,
 "nbformat_minor": 4
}
